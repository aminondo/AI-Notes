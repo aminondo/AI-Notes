{
 "cells": [
  {
   "cell_type": "code",
   "execution_count": 108,
   "metadata": {
    "collapsed": true
   },
   "outputs": [],
   "source": [
    "import numpy as np\n",
    "import spacy\n",
    "import pandas as pd\n",
    "\n",
    "import gensim\n",
    "from sklearn.manifold import TSNE\n",
    "import matplotlib.pyplot as plt\n",
    "from bokeh.models import ColumnDataSource, LabelSet\n",
    "from bokeh.plotting import figure, show, output_file\n",
    "\n",
    "from collections import Counter"
   ]
  },
  {
   "cell_type": "code",
   "execution_count": 79,
   "metadata": {
    "collapsed": true
   },
   "outputs": [],
   "source": [
    "nlp = spacy.load('en')"
   ]
  },
  {
   "cell_type": "code",
   "execution_count": 80,
   "metadata": {
    "collapsed": true
   },
   "outputs": [],
   "source": [
    "#spacy preprocess text\n",
    "#read in war and peace file\n",
    "#war_peace_raw = open(\"input/war_and_peace.txt\").read()\n",
    "#load sentences using gensim\n",
    "ai_raw = open(\"input/ai_awakening.txt\").read()\n",
    "sentences = gensim.models.word2vec.LineSentence(\"input/ai_awakening.txt\")"
   ]
  },
  {
   "cell_type": "code",
   "execution_count": 81,
   "metadata": {},
   "outputs": [],
   "source": [
    "#parse raw data using spacy\n",
    "#war_peace = nlp(war_peace_raw)\n",
    "ai = nlp(ai_raw)\n"
   ]
  },
  {
   "cell_type": "code",
   "execution_count": 120,
   "metadata": {
    "collapsed": true
   },
   "outputs": [],
   "source": [
    "#create model using gensim sentences\n",
    "new_model = gensim.models.Word2Vec(sentences, size=50, window=5, min_count=2, iter=20)"
   ]
  },
  {
   "cell_type": "code",
   "execution_count": 122,
   "metadata": {},
   "outputs": [
    {
     "data": {
      "text/plain": [
       "205"
      ]
     },
     "execution_count": 122,
     "metadata": {},
     "output_type": "execute_result"
    }
   ],
   "source": [
    "#get top 1000 words that are not stop words and are in alphabet and not punct.\n",
    "#war_peace_ = [w for w in war_peace if w.is_stop == False]\n",
    "#war_peace_ = [w for w in war_peace_ if w.pos_ != \"PUNCT\" and w.is_alpha == True]\n",
    "#top1000 = Counter([w.string.strip() for w in war_peace_]).most_common(1000)\n",
    "#top1000 = [item[0] for item in top1000]\n",
    "#top1000 = [item for item in top1000 if item in new_model.wv.vocab]\n",
    "\n",
    "ai_ = [w for w in ai if w.is_stop == False ] #and w.is_stop==False]\n",
    "\n",
    "data = Counter([w.string.strip() for w in ai_]).most_common(len(ai_))\n",
    "\n",
    "data = [item[0] for item in data]\n",
    "#data\n",
    "#len(data)\n",
    "#data = [item for item in new_model.wv.vocab if item in data]\n",
    "words = []\n",
    "for w in data:\n",
    "    if w in new_model.wv.vocab:\n",
    "        words.append(w)\n",
    "\n",
    "len(words)\n",
    "\n",
    "#new_model.wv.vocab"
   ]
  },
  {
   "cell_type": "code",
   "execution_count": 115,
   "metadata": {},
   "outputs": [],
   "source": [
    "#change into 2 dimensions and visualize using TSNE\n",
    "tsne = TSNE(n_components=2, random_state=0)\n",
    "#words_war_peace_tsne = tsne.fit_transform(new_model[top1000])\n",
    "words_ai_tsne = tsne.fit_transform(new_model[data])"
   ]
  },
  {
   "cell_type": "code",
   "execution_count": 116,
   "metadata": {},
   "outputs": [
    {
     "data": {
      "image/png": "[encoded data removed]",
      "text/plain": [
       "<matplotlib.figure.Figure at 0x120712be0>"
      ]
     },
     "metadata": {},
     "output_type": "display_data"
    }
   ],
   "source": [
    "#this plots all words, not very informative\n",
    "\n",
    "#plt.scatter(words_war_peace_tsne[:, 0], words_war_peace_tsne[:, 1])\n",
    "#plt.show()\n",
    "plt.scatter(words_ai_tsne[:, 0], words_ai_tsne[:, 1])\n",
    "plt.show()\n",
    "words = [item[0] for item in new_model.wv.vocab]\n"
   ]
  },
  {
   "cell_type": "code",
   "execution_count": 117,
   "metadata": {},
   "outputs": [],
   "source": [
    "#using bokeh, adds labels\n",
    "'''\n",
    "p = figure(tools=\"pan,wheel_zoom,reset,save\",\n",
    "           toolbar_location=\"above\",\n",
    "           title=\"word2vec T-SNE for most common words\")\n",
    "\n",
    "source = ColumnDataSource(data=dict(x1=words_war_peace_tsne[:,0],\n",
    "                                    x2=words_war_peace_tsne[:,1],\n",
    "                                    names=top1000))\n",
    "\n",
    "p.scatter(x=\"x1\", y=\"x2\", size=8, source=source)\n",
    "\n",
    "labels = LabelSet(x=\"x1\", y=\"x2\", text=\"names\", y_offset=6,\n",
    "                  text_font_size=\"8pt\", text_color=\"#555555\",\n",
    "                  source=source, text_align='center')\n",
    "p.add_layout(labels)\n",
    "\n",
    "show(p)\n",
    "'''\n",
    "p = figure(tools=\"pan,wheel_zoom,reset,save\",\n",
    "           toolbar_location=\"above\",\n",
    "           title=\"word2vec T-SNE for most common words\")\n",
    "\n",
    "source = ColumnDataSource(data=dict(x1=words_ai_tsne[:,0],\n",
    "                                    x2=words_ai_tsne[:,1],\n",
    "                                    names=data))\n",
    "\n",
    "p.scatter(x=\"x1\", y=\"x2\", size=8, source=source)\n",
    "\n",
    "labels = LabelSet(x=\"x1\", y=\"x2\", text=\"names\", y_offset=6,\n",
    "                  text_font_size=\"8pt\", text_color=\"#555555\",\n",
    "                  source=source, text_align='center')\n",
    "p.add_layout(labels)\n",
    "\n",
    "show(p)"
   ]
  },
  {
   "cell_type": "code",
   "execution_count": null,
   "metadata": {
    "collapsed": true
   },
   "outputs": [],
   "source": []
  }
 ],
 "metadata": {
  "kernelspec": {
   "display_name": "Python 3",
   "language": "python",
   "name": "python3"
  },
  "language_info": {
   "codemirror_mode": {
    "name": "ipython",
    "version": 3
   },
   "file_extension": ".py",
   "mimetype": "text/x-python",
   "name": "python",
   "nbconvert_exporter": "python",
   "pygments_lexer": "ipython3",
   "version": "3.6.1"
  }
 },
 "nbformat": 4,
 "nbformat_minor": 2
}
