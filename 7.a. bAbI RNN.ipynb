{
 "cells": [
  {
   "cell_type": "code",
   "execution_count": 2,
   "metadata": {},
   "outputs": [
    {
     "name": "stderr",
     "output_type": "stream",
     "text": [
      "Using TensorFlow backend.\n"
     ]
    }
   ],
   "source": [
    "import re\n",
    "import tarfile\n",
    "import functools\n",
    "\n",
    "import numpy as np\n",
    "\n",
    "from keras.utils.data_utils import get_file\n",
    "from keras.layers.embeddings import Embedding\n",
    "from keras import layers\n",
    "from keras.layers import recurrent\n",
    "from keras.models import Model\n",
    "from keras.preprocessing.sequence import pad_sequences"
   ]
  },
  {
   "cell_type": "code",
   "execution_count": 3,
   "metadata": {
    "collapsed": true
   },
   "outputs": [],
   "source": [
    "def tokenize(sent):\n",
    "    '''Return the tokens of a sentence including punctuation.\n",
    "    >>> tokenize('Bob dropped the apple. Where is the apple?')\n",
    "    ['Bob', 'dropped', 'the', 'apple', '.', 'Where', 'is', 'the', 'apple', '?']\n",
    "    '''\n",
    "    return [x.strip() for x in re.split('(\\W+)?', sent) if x.strip()]"
   ]
  },
  {
   "cell_type": "code",
   "execution_count": 4,
   "metadata": {
    "collapsed": true
   },
   "outputs": [],
   "source": [
    "def parse_stories(lines, only_supporting=False):\n",
    "    '''Parse stories provided in the bAbi tasks format\n",
    "    If only_supporting is true,\n",
    "    only the sentences that support the answer are kept.\n",
    "    '''\n",
    "    data = []\n",
    "    story = []\n",
    "    for line in lines:\n",
    "        line = line.decode('utf-8').strip()\n",
    "        nid, line = line.split(' ', 1)\n",
    "        nid = int(nid)\n",
    "        if nid == 1:\n",
    "            story = []\n",
    "        if '\\t' in line:\n",
    "            q, a, supporting = line.split('\\t')\n",
    "            q = tokenize(q)\n",
    "            substory = None\n",
    "            if only_supporting:\n",
    "                # Only select the related substory\n",
    "                supporting = map(int, supporting.split())\n",
    "                substory = [story[i - 1] for i in supporting]\n",
    "            else:\n",
    "                # Provide all the substories\n",
    "                substory = [x for x in story if x]\n",
    "            data.append((substory, q, a))\n",
    "            story.append('')\n",
    "        else:\n",
    "            sent = tokenize(line)\n",
    "            story.append(sent)\n",
    "    return data"
   ]
  },
  {
   "cell_type": "code",
   "execution_count": 5,
   "metadata": {
    "collapsed": true
   },
   "outputs": [],
   "source": [
    "def get_stories(f, only_supporting=False, max_length=None):\n",
    "    '''Given a file name, read the file, retrieve the stories,\n",
    "    and then convert the sentences into a single story.\n",
    "    If max_length is supplied,\n",
    "    any stories longer than max_length tokens will be discarded.\n",
    "    '''\n",
    "    data = parse_stories(f.readlines(), only_supporting=only_supporting)\n",
    "    flatten = lambda data: functools.reduce(lambda x, y: x + y, data)\n",
    "    data = [(flatten(story), q, answer) \n",
    "            for story, q, answer in data if not max_length or len(flatten(story)) < max_length]\n",
    "    return data"
   ]
  },
  {
   "cell_type": "code",
   "execution_count": 6,
   "metadata": {
    "collapsed": true
   },
   "outputs": [],
   "source": [
    "def vectorize_stories(data, word_idx, story_maxlen, query_maxlen):\n",
    "    xs = []\n",
    "    xqs = []\n",
    "    ys = []\n",
    "    for story, query, answer in data:\n",
    "        x = [word_idx[w] for w in story]\n",
    "        xq = [word_idx[w] for w in query]\n",
    "        # let's not forget that index 0 is reserved\n",
    "        y = np.zeros(len(word_idx) + 1)\n",
    "        y[word_idx[answer]] = 1\n",
    "        xs.append(x)\n",
    "        xqs.append(xq)\n",
    "        ys.append(y)\n",
    "    return pad_sequences(xs, maxlen=story_maxlen), pad_sequences(xqs, maxlen=query_maxlen), np.array(ys)"
   ]
  },
  {
   "cell_type": "code",
   "execution_count": 7,
   "metadata": {},
   "outputs": [
    {
     "name": "stdout",
     "output_type": "stream",
     "text": [
      "RNN / Embed / Sent / Query = <class 'keras.layers.recurrent.LSTM'>, 50, 100, 100\n"
     ]
    }
   ],
   "source": [
    "RNN = recurrent.LSTM\n",
    "EMBED_HIDDEN_SIZE = 50\n",
    "SENT_HIDDEN_SIZE = 100\n",
    "QUERY_HIDDEN_SIZE = 100\n",
    "BATCH_SIZE = 32\n",
    "EPOCHS = 40\n",
    "print('RNN / Embed / Sent / Query = {}, {}, {}, {}'.format(RNN,\n",
    "                                                           EMBED_HIDDEN_SIZE,\n",
    "                                                           SENT_HIDDEN_SIZE,\n",
    "                                                           QUERY_HIDDEN_SIZE))"
   ]
  },
  {
   "cell_type": "code",
   "execution_count": 7,
   "metadata": {},
   "outputs": [
    {
     "name": "stdout",
     "output_type": "stream",
     "text": [
      "Downloading data from https://s3.amazonaws.com/text-datasets/babi_tasks_1-20_v1-2.tar.gz\n"
     ]
    }
   ],
   "source": [
    "try:\n",
    "    path = get_file('babi-tasks-v1-2.tar.gz', origin='https://s3.amazonaws.com/text-datasets/babi_tasks_1-20_v1-2.tar.gz')\n",
    "except:\n",
    "    print('Error downloading dataset, please download it manually:\\n'\n",
    "          '$ wget http://www.thespermwhale.com/jaseweston/babi/tasks_1-20_v1-2.tar.gz\\n'\n",
    "          '$ mv tasks_1-20_v1-2.tar.gz ~/.keras/datasets/babi-tasks-v1-2.tar.gz')\n",
    "    raise\n",
    "tar = tarfile.open(path)"
   ]
  },
  {
   "cell_type": "code",
   "execution_count": 9,
   "metadata": {},
   "outputs": [],
   "source": [
    "tar = tarfile.open(\"tasks_1-20_v1-2.tar\")"
   ]
  },
  {
   "cell_type": "code",
   "execution_count": 25,
   "metadata": {},
   "outputs": [
    {
     "name": "stderr",
     "output_type": "stream",
     "text": [
      "/anaconda/lib/python3.6/re.py:212: FutureWarning: split() requires a non-empty pattern match.\n",
      "  return _compile(pattern, flags).split(string, maxsplit)\n"
     ]
    }
   ],
   "source": [
    "# Default QA1 with 1000 samples\n",
    "challenge = 'tasks_1-20_v1-2/en/qa1_single-supporting-fact_{}.txt'\n",
    "# QA1 with 10,000 samples\n",
    "#challenge = 'tasks_1-20_v1-2/en-10k/qa1_single-supporting-fact_{}.txt'\n",
    "# QA2 with 1000 samples\n",
    "#challenge = 'tasks_1-20_v1-2/en/qa2_two-supporting-facts_{}.txt'\n",
    "# QA2 with 10,000 samples\n",
    "# challenge = 'tasks_1-20_v1-2/en-10k/qa2_two-supporting-facts_{}.txt'\n",
    "train = get_stories(tar.extractfile(challenge.format('train')))\n",
    "test = get_stories(tar.extractfile(challenge.format('test')))"
   ]
  },
  {
   "cell_type": "code",
   "execution_count": 26,
   "metadata": {
    "collapsed": true
   },
   "outputs": [],
   "source": [
    "vocab = set()\n",
    "for story, q, answer in train + test:\n",
    "    vocab |= set(story + q + [answer])\n",
    "vocab = sorted(vocab)"
   ]
  },
  {
   "cell_type": "code",
   "execution_count": 27,
   "metadata": {
    "collapsed": true
   },
   "outputs": [],
   "source": [
    "# Reserve 0 for masking via pad_sequences\n",
    "vocab_size = len(vocab) + 1\n",
    "word_idx = dict((c, i + 1) for i, c in enumerate(vocab))\n",
    "story_maxlen = max(map(len, (x for x, _, _ in train + test)))\n",
    "query_maxlen = max(map(len, (x for _, x, _ in train + test)))"
   ]
  },
  {
   "cell_type": "code",
   "execution_count": 28,
   "metadata": {
    "collapsed": true
   },
   "outputs": [],
   "source": [
    "x, xq, y = vectorize_stories(train, word_idx, story_maxlen, query_maxlen)\n",
    "tx, txq, ty = vectorize_stories(test, word_idx, story_maxlen, query_maxlen)"
   ]
  },
  {
   "cell_type": "code",
   "execution_count": 29,
   "metadata": {},
   "outputs": [
    {
     "name": "stdout",
     "output_type": "stream",
     "text": [
      "vocab = ['.', '?', 'Daniel', 'John', 'Mary', 'Sandra', 'Where', 'back', 'bathroom', 'bedroom', 'garden', 'hallway', 'is', 'journeyed', 'kitchen', 'moved', 'office', 'the', 'to', 'travelled', 'went']\n",
      "x.shape = (1000, 66)\n",
      "xq.shape = (1000, 4)\n",
      "y.shape = (1000, 22)\n",
      "story_maxlen, query_maxlen = 66, 4\n"
     ]
    }
   ],
   "source": [
    "print('vocab = {}'.format(vocab))\n",
    "print('x.shape = {}'.format(x.shape))\n",
    "print('xq.shape = {}'.format(xq.shape))\n",
    "print('y.shape = {}'.format(y.shape))\n",
    "print('story_maxlen, query_maxlen = {}, {}'.format(story_maxlen, query_maxlen))"
   ]
  },
  {
   "cell_type": "code",
   "execution_count": 30,
   "metadata": {},
   "outputs": [
    {
     "name": "stdout",
     "output_type": "stream",
     "text": [
      "Build model...\n"
     ]
    }
   ],
   "source": [
    "print('Build model...')\n",
    "\n",
    "sentence = layers.Input(shape=(story_maxlen,), dtype='int32')\n",
    "encoded_sentence = layers.Embedding(vocab_size, EMBED_HIDDEN_SIZE)(sentence)\n",
    "encoded_sentence = layers.Dropout(0.3)(encoded_sentence)\n",
    "\n",
    "question = layers.Input(shape=(query_maxlen,), dtype='int32')\n",
    "encoded_question = layers.Embedding(vocab_size, EMBED_HIDDEN_SIZE)(question)\n",
    "encoded_question = layers.Dropout(0.3)(encoded_question)\n",
    "encoded_question = RNN(EMBED_HIDDEN_SIZE)(encoded_question)\n",
    "encoded_question = layers.RepeatVector(story_maxlen)(encoded_question)\n",
    "\n",
    "merged = layers.add([encoded_sentence, encoded_question])\n",
    "merged = RNN(EMBED_HIDDEN_SIZE)(merged)\n",
    "merged = layers.Dropout(0.3)(merged)\n",
    "preds = layers.Dense(vocab_size, activation='softmax')(merged)\n",
    "\n",
    "model = Model([sentence, question], preds)\n",
    "model.compile(optimizer='adam',\n",
    "              loss='categorical_crossentropy',\n",
    "              metrics=['accuracy'])"
   ]
  },
  {
   "cell_type": "code",
   "execution_count": 31,
   "metadata": {},
   "outputs": [
    {
     "name": "stdout",
     "output_type": "stream",
     "text": [
      "Training\n",
      "Train on 950 samples, validate on 50 samples\n",
      "Epoch 1/40\n",
      "950/950 [==============================] - 6s - loss: 2.7153 - acc: 0.1632 - val_loss: 2.0164 - val_acc: 0.0800\n",
      "Epoch 2/40\n",
      "950/950 [==============================] - 6s - loss: 1.9479 - acc: 0.1663 - val_loss: 1.8670 - val_acc: 0.0800\n",
      "Epoch 3/40\n",
      "950/950 [==============================] - 6s - loss: 1.8966 - acc: 0.1684 - val_loss: 1.8010 - val_acc: 0.0800\n",
      "Epoch 4/40\n",
      "950/950 [==============================] - 6s - loss: 1.9098 - acc: 0.1547 - val_loss: 1.7990 - val_acc: 0.3000\n",
      "Epoch 5/40\n",
      "950/950 [==============================] - 6s - loss: 1.8644 - acc: 0.1811 - val_loss: 1.7735 - val_acc: 0.2400\n",
      "Epoch 6/40\n",
      "950/950 [==============================] - 6s - loss: 1.8657 - acc: 0.1747 - val_loss: 1.7622 - val_acc: 0.2800\n",
      "Epoch 7/40\n",
      "950/950 [==============================] - 6s - loss: 1.8404 - acc: 0.1895 - val_loss: 1.7672 - val_acc: 0.4800\n",
      "Epoch 8/40\n",
      "950/950 [==============================] - 7s - loss: 1.7987 - acc: 0.2063 - val_loss: 1.7589 - val_acc: 0.2000\n",
      "Epoch 9/40\n",
      "950/950 [==============================] - 7s - loss: 1.7486 - acc: 0.2526 - val_loss: 1.7259 - val_acc: 0.1800\n",
      "Epoch 10/40\n",
      "950/950 [==============================] - 6s - loss: 1.6755 - acc: 0.3084 - val_loss: 1.6435 - val_acc: 0.4600\n",
      "Epoch 11/40\n",
      "950/950 [==============================] - 6s - loss: 1.5714 - acc: 0.3758 - val_loss: 1.5017 - val_acc: 0.4200\n",
      "Epoch 12/40\n",
      "950/950 [==============================] - 6s - loss: 1.5079 - acc: 0.4316 - val_loss: 1.5523 - val_acc: 0.4600\n",
      "Epoch 13/40\n",
      "950/950 [==============================] - 6s - loss: 1.4625 - acc: 0.4116 - val_loss: 1.4295 - val_acc: 0.5200\n",
      "Epoch 14/40\n",
      "950/950 [==============================] - 6s - loss: 1.4201 - acc: 0.4747 - val_loss: 1.4577 - val_acc: 0.4800\n",
      "Epoch 15/40\n",
      "950/950 [==============================] - 6s - loss: 1.3505 - acc: 0.4884 - val_loss: 1.4787 - val_acc: 0.4600\n",
      "Epoch 16/40\n",
      "950/950 [==============================] - 6s - loss: 1.3018 - acc: 0.5232 - val_loss: 1.5295 - val_acc: 0.4200\n",
      "Epoch 17/40\n",
      "950/950 [==============================] - 6s - loss: 1.3440 - acc: 0.5253 - val_loss: 1.6063 - val_acc: 0.4200\n",
      "Epoch 18/40\n",
      "950/950 [==============================] - 6s - loss: 1.3490 - acc: 0.4905 - val_loss: 1.5221 - val_acc: 0.5000\n",
      "Epoch 19/40\n",
      "950/950 [==============================] - 6s - loss: 1.3115 - acc: 0.5116 - val_loss: 1.4337 - val_acc: 0.5200\n",
      "Epoch 20/40\n",
      "950/950 [==============================] - 6s - loss: 1.2349 - acc: 0.5684 - val_loss: 1.4980 - val_acc: 0.4000\n",
      "Epoch 21/40\n",
      "950/950 [==============================] - 6s - loss: 1.2340 - acc: 0.5400 - val_loss: 1.4511 - val_acc: 0.4800\n",
      "Epoch 22/40\n",
      "950/950 [==============================] - 6s - loss: 1.2543 - acc: 0.5305 - val_loss: 1.3312 - val_acc: 0.5000\n",
      "Epoch 23/40\n",
      "950/950 [==============================] - 6s - loss: 1.1629 - acc: 0.5695 - val_loss: 1.4098 - val_acc: 0.5200\n",
      "Epoch 24/40\n",
      "950/950 [==============================] - 6s - loss: 1.1705 - acc: 0.5674 - val_loss: 1.4290 - val_acc: 0.4600\n",
      "Epoch 25/40\n",
      "950/950 [==============================] - 6s - loss: 1.1916 - acc: 0.5558 - val_loss: 1.3393 - val_acc: 0.5400\n",
      "Epoch 26/40\n",
      "950/950 [==============================] - 6s - loss: 1.1425 - acc: 0.5737 - val_loss: 1.2642 - val_acc: 0.5200\n",
      "Epoch 27/40\n",
      "950/950 [==============================] - 6s - loss: 1.1273 - acc: 0.5821 - val_loss: 1.3608 - val_acc: 0.4200\n",
      "Epoch 28/40\n",
      "950/950 [==============================] - 6s - loss: 1.1254 - acc: 0.5642 - val_loss: 1.3262 - val_acc: 0.5200\n",
      "Epoch 29/40\n",
      "950/950 [==============================] - 6s - loss: 1.1085 - acc: 0.5895 - val_loss: 1.2550 - val_acc: 0.5400\n",
      "Epoch 30/40\n",
      "950/950 [==============================] - 6s - loss: 1.0733 - acc: 0.5842 - val_loss: 1.2500 - val_acc: 0.5200\n",
      "Epoch 31/40\n",
      "950/950 [==============================] - 7s - loss: 1.0930 - acc: 0.5663 - val_loss: 1.3158 - val_acc: 0.5400\n",
      "Epoch 32/40\n",
      "950/950 [==============================] - 6s - loss: 1.0661 - acc: 0.5895 - val_loss: 1.3262 - val_acc: 0.4800\n",
      "Epoch 33/40\n",
      "950/950 [==============================] - 6s - loss: 1.0650 - acc: 0.5758 - val_loss: 1.2918 - val_acc: 0.4600\n",
      "Epoch 34/40\n",
      "950/950 [==============================] - 6s - loss: 1.0472 - acc: 0.5937 - val_loss: 1.3022 - val_acc: 0.5200\n",
      "Epoch 35/40\n",
      "950/950 [==============================] - 6s - loss: 1.0255 - acc: 0.6084 - val_loss: 1.2969 - val_acc: 0.5000\n",
      "Epoch 36/40\n",
      "950/950 [==============================] - 6s - loss: 1.0113 - acc: 0.6084 - val_loss: 1.3432 - val_acc: 0.4000\n",
      "Epoch 37/40\n",
      "950/950 [==============================] - 6s - loss: 1.0264 - acc: 0.5958 - val_loss: 1.3191 - val_acc: 0.4200\n",
      "Epoch 38/40\n",
      "950/950 [==============================] - 6s - loss: 0.9942 - acc: 0.6137 - val_loss: 1.1884 - val_acc: 0.5000\n",
      "Epoch 39/40\n",
      "950/950 [==============================] - 6s - loss: 0.9742 - acc: 0.6189 - val_loss: 1.3030 - val_acc: 0.4600\n",
      "Epoch 40/40\n",
      "950/950 [==============================] - 6s - loss: 0.9923 - acc: 0.6137 - val_loss: 1.2550 - val_acc: 0.4000\n",
      " 992/1000 [============================>.] - ETA: 0sTest loss / test accuracy = 1.2728 / 0.5000\n"
     ]
    }
   ],
   "source": [
    "print('Training')\n",
    "model.fit([x, xq], y,\n",
    "          batch_size=BATCH_SIZE,\n",
    "          epochs=EPOCHS,\n",
    "          validation_split=0.05)\n",
    "loss, acc = model.evaluate([tx, txq], ty,\n",
    "                           batch_size=BATCH_SIZE)\n",
    "print('Test loss / test accuracy = {:.4f} / {:.4f}'.format(loss, acc))"
   ]
  },
  {
   "cell_type": "code",
   "execution_count": null,
   "metadata": {
    "collapsed": true
   },
   "outputs": [],
   "source": []
  }
 ],
 "metadata": {
  "kernelspec": {
   "display_name": "Python 3",
   "language": "python",
   "name": "python3"
  },
  "language_info": {
   "codemirror_mode": {
    "name": "ipython",
    "version": 3
   },
   "file_extension": ".py",
   "mimetype": "text/x-python",
   "name": "python",
   "nbconvert_exporter": "python",
   "pygments_lexer": "ipython3",
   "version": "3.6.1"
  }
 },
 "nbformat": 4,
 "nbformat_minor": 2
}
