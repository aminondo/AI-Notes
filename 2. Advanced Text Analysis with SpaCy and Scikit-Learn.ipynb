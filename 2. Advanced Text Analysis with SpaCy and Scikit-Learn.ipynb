{
 "cells": [
  {
   "cell_type": "markdown",
   "metadata": {
    "slideshow": {
     "slide_type": "slide"
    }
   },
   "source": [
    "<img src=\"./media/Logo Element-01.jpg\"><h1 align=\"center\">Advanced Text Analysis with SpaCy and Scikit-Learn</h1>"
   ]
  },
  {
   "cell_type": "markdown",
   "metadata": {
    "slideshow": {
     "slide_type": "fragment"
    }
   },
   "source": [
    "This notebook was originally prepared for the workshop [Advanced Text Analysis with SpaCy and Scikit-Learn](http://dhweek.nycdh.org/event/advanced-text-analysis-with-spacy-and-scikit-learn/), presented as part of NYCDH Week 2017, by [Jonathan Reeve](http://jonreeve.com) ([Group for Experimental Methods in the Humanities](http://xpmethod.plaintext.in/), Columbia University). All code here is licensed under the MIT License.  \n",
    "\n",
    "Here, we try out features of the SpaCy library for natural language processing. We also do some statistical analysis using from the scikit-learn library. "
   ]
  },
  {
   "cell_type": "code",
   "execution_count": 1,
   "metadata": {
    "collapsed": true,
    "slideshow": {
     "slide_type": "slide"
    }
   },
   "outputs": [],
   "source": [
    "import spacy\n",
    "import pandas as pd\n",
    "import numpy as np\n",
    "from collections import Counter\n",
    "from glob import glob\n",
    "import matplotlib.pyplot as plt\n",
    "from sklearn.decomposition import TruncatedSVD\n",
    "from sklearn.feature_extraction.text import TfidfVectorizer\n",
    "\n",
    "# Display plots in this notebook, instead of externally. \n",
    "from pylab import rcParams\n",
    "rcParams['figure.figsize'] = 16, 8\n",
    "%matplotlib inline\n",
    "\n",
    "# The following are optional dependencies. \n",
    "# Feel free to comment these out. \n",
    "# Sent2tree uses the sent2tree.py module in this repository. \n",
    "#from sent2tree import sentenceTree\n",
    "#import ete3 \n",
    "import seaborn"
   ]
  },
  {
   "cell_type": "code",
   "execution_count": 2,
   "metadata": {
    "collapsed": true,
    "slideshow": {
     "slide_type": "subslide"
    }
   },
   "outputs": [],
   "source": [
    "# This command might take a little while. \n",
    "nlp = spacy.load('en')"
   ]
  },
  {
   "cell_type": "markdown",
   "metadata": {
    "slideshow": {
     "slide_type": "fragment"
    }
   },
   "source": [
    "The sample data is the script of the 1975 film _Monty Python and the Holy Grail_, taken from the NLTK Book corpus, and the Project Gutenberg edition of Jane Austen's novel _Pride and Prejudice_. "
   ]
  },
  {
   "cell_type": "code",
   "execution_count": 3,
   "metadata": {
    "collapsed": true,
    "slideshow": {
     "slide_type": "fragment"
    }
   },
   "outputs": [],
   "source": [
    "grail_raw = open('./input/grail.txt').read()\n",
    "pride_raw = open('./input/pride.txt').read()\n"
   ]
  },
  {
   "cell_type": "code",
   "execution_count": 12,
   "metadata": {
    "collapsed": true,
    "slideshow": {
     "slide_type": "fragment"
    }
   },
   "outputs": [],
   "source": [
    "# Parse the texts. These commands might take a little while. \n",
    "grail = nlp(grail_raw)\n",
    "pride = nlp(pride_raw)\n"
   ]
  },
  {
   "cell_type": "markdown",
   "metadata": {
    "slideshow": {
     "slide_type": "slide"
    }
   },
   "source": [
    "# Exploring the Document\n",
    "\n",
    "Each SpaCy document is already tokenized into words, which are accessible by iterating over the document: "
   ]
  },
  {
   "cell_type": "code",
   "execution_count": 14,
   "metadata": {
    "slideshow": {
     "slide_type": "fragment"
    }
   },
   "outputs": [
    {
     "data": {
      "text/plain": [
       "It"
      ]
     },
     "execution_count": 14,
     "metadata": {},
     "output_type": "execute_result"
    }
   ],
   "source": [
    "pride[1]\n"
   ]
  },
  {
   "cell_type": "code",
   "execution_count": 15,
   "metadata": {
    "slideshow": {
     "slide_type": "fragment"
    }
   },
   "outputs": [
    {
     "data": {
      "text/plain": [
       "\n",
       "It is a truth universally acknowledged, that a"
      ]
     },
     "execution_count": 15,
     "metadata": {},
     "output_type": "execute_result"
    }
   ],
   "source": [
    "pride[:10]"
   ]
  },
  {
   "cell_type": "markdown",
   "metadata": {
    "slideshow": {
     "slide_type": "fragment"
    }
   },
   "source": [
    "You can also iterate over the sentences. `doc.sents` is a generator object, so we can use `next()`: "
   ]
  },
  {
   "cell_type": "code",
   "execution_count": 16,
   "metadata": {
    "slideshow": {
     "slide_type": "fragment"
    }
   },
   "outputs": [
    {
     "data": {
      "text/plain": [
       "\n",
       "It is a truth universally acknowledged, that a single man in possession\n",
       "of a good fortune, must be in want of a wife.\n"
      ]
     },
     "execution_count": 16,
     "metadata": {},
     "output_type": "execute_result"
    }
   ],
   "source": [
    "next(pride.sents)"
   ]
  },
  {
   "cell_type": "markdown",
   "metadata": {
    "slideshow": {
     "slide_type": "subslide"
    }
   },
   "source": [
    "<h2>Or you can force it into a list, and then do things with it:</h2>"
   ]
  },
  {
   "cell_type": "code",
   "execution_count": 12,
   "metadata": {
    "scrolled": false,
    "slideshow": {
     "slide_type": "fragment"
    }
   },
   "outputs": [
    {
     "data": {
      "text/plain": [
       "Darcy, as well as Elizabeth, really loved them; and they were both ever\n",
       "sensible of the warmest gratitude towards the persons who, by bringing\n",
       "her into Derbyshire, had been the means of uniting them."
      ]
     },
     "execution_count": 12,
     "metadata": {},
     "output_type": "execute_result"
    }
   ],
   "source": [
    "prideSents = list(pride.sents)\n",
    "prideSents[-1]"
   ]
  },
  {
   "cell_type": "code",
   "execution_count": 20,
   "metadata": {
    "slideshow": {
     "slide_type": "fragment"
    }
   },
   "outputs": [
    {
     "data": {
      "text/plain": [
       "Just pack that in."
      ]
     },
     "execution_count": 20,
     "metadata": {},
     "output_type": "execute_result"
    }
   ],
   "source": [
    "list(grail.sents)[-2]"
   ]
  },
  {
   "cell_type": "markdown",
   "metadata": {
    "slideshow": {
     "slide_type": "subslide"
    }
   },
   "source": [
    "<h2>For example, let's find the longest sentence(s) in _Pride and Prejudice_:</h2>"
   ]
  },
  {
   "cell_type": "code",
   "execution_count": 21,
   "metadata": {
    "slideshow": {
     "slide_type": "fragment"
    }
   },
   "outputs": [
    {
     "data": {
      "text/plain": [
       "[Every lingering struggle in his favour grew fainter\n",
       " and fainter; and in farther justification of Mr. Darcy, she could not\n",
       " but allow that Mr. Bingley, when questioned by Jane, had long ago\n",
       " asserted his blamelessness in the affair; that proud and repulsive as\n",
       " were his manners, she had never, in the whole course of their\n",
       " acquaintance--an acquaintance which had latterly brought them much\n",
       " together, and given her a sort of intimacy with his ways--seen anything\n",
       " that betrayed him to be unprincipled or unjust--anything that spoke him\n",
       " of irreligious or immoral habits; that among his own connections he was\n",
       " esteemed and valued--that even Wickham had allowed him merit as a\n",
       " brother, and that she had often heard him speak so affectionately of his\n",
       " sister as to prove him capable of _some_ amiable feeling; that had his\n",
       " actions been what Mr. Wickham represented them, so gross a violation of\n",
       " everything right could hardly have been concealed from the world; and\n",
       " that friendship between a person capable of it, and such an amiable man\n",
       " as Mr. Bingley, was incomprehensible.\n",
       " ]"
      ]
     },
     "execution_count": 21,
     "metadata": {},
     "output_type": "execute_result"
    }
   ],
   "source": [
    "prideSentenceLengths = [len(sent) for sent in prideSents]\n",
    "[sent for sent in prideSents if len(sent) == max(prideSentenceLengths)]"
   ]
  },
  {
   "cell_type": "markdown",
   "metadata": {
    "slideshow": {
     "slide_type": "slide"
    }
   },
   "source": [
    "## Exploring Words\n",
    "\n",
    "Each word has a crazy number of properties: "
   ]
  },
  {
   "cell_type": "code",
   "execution_count": 67,
   "metadata": {
    "slideshow": {
     "slide_type": "fragment"
    }
   },
   "outputs": [
    {
     "data": {
      "text/plain": [
       "90"
      ]
     },
     "execution_count": 67,
     "metadata": {},
     "output_type": "execute_result"
    }
   ],
   "source": [
    "pride[4].pos\n",
    "\n"
   ]
  },
  {
   "cell_type": "code",
   "execution_count": 28,
   "metadata": {
    "slideshow": {
     "slide_type": "subslide"
    }
   },
   "outputs": [
    {
     "data": {
      "text/plain": [
       "['ancestors',\n",
       " 'check_flag',\n",
       " 'children',\n",
       " 'cluster',\n",
       " 'conjuncts',\n",
       " 'dep',\n",
       " 'dep_',\n",
       " 'doc',\n",
       " 'ent_id',\n",
       " 'ent_id_',\n",
       " 'ent_iob',\n",
       " 'ent_iob_',\n",
       " 'ent_type',\n",
       " 'ent_type_',\n",
       " 'has_repvec',\n",
       " 'has_vector',\n",
       " 'head',\n",
       " 'i',\n",
       " 'idx',\n",
       " 'is_alpha',\n",
       " 'is_ancestor',\n",
       " 'is_ancestor_of',\n",
       " 'is_ascii',\n",
       " 'is_bracket',\n",
       " 'is_digit',\n",
       " 'is_left_punct',\n",
       " 'is_lower',\n",
       " 'is_oov',\n",
       " 'is_punct',\n",
       " 'is_quote',\n",
       " 'is_right_punct',\n",
       " 'is_space',\n",
       " 'is_stop',\n",
       " 'is_title',\n",
       " 'lang',\n",
       " 'lang_',\n",
       " 'left_edge',\n",
       " 'lefts',\n",
       " 'lemma',\n",
       " 'lemma_',\n",
       " 'lex_id',\n",
       " 'like_email',\n",
       " 'like_num',\n",
       " 'like_url',\n",
       " 'lower',\n",
       " 'lower_',\n",
       " 'n_lefts',\n",
       " 'n_rights',\n",
       " 'nbor',\n",
       " 'norm',\n",
       " 'norm_',\n",
       " 'orth',\n",
       " 'orth_',\n",
       " 'pos',\n",
       " 'pos_',\n",
       " 'prefix',\n",
       " 'prefix_',\n",
       " 'prob',\n",
       " 'rank',\n",
       " 'repvec',\n",
       " 'right_edge',\n",
       " 'rights',\n",
       " 'sentiment',\n",
       " 'shape',\n",
       " 'shape_',\n",
       " 'similarity',\n",
       " 'string',\n",
       " 'subtree',\n",
       " 'suffix',\n",
       " 'suffix_',\n",
       " 'tag',\n",
       " 'tag_',\n",
       " 'text',\n",
       " 'text_with_ws',\n",
       " 'vector',\n",
       " 'vector_norm',\n",
       " 'vocab',\n",
       " 'whitespace_']"
      ]
     },
     "execution_count": 28,
     "metadata": {},
     "output_type": "execute_result"
    }
   ],
   "source": [
    "[prop for prop in dir(pride[5]) if not prop.startswith('_')]"
   ]
  },
  {
   "cell_type": "markdown",
   "metadata": {
    "slideshow": {
     "slide_type": "slide"
    }
   },
   "source": [
    "<h2>Using just the indices (`.i`), we can make a lexical dispersion plot for the occurrences of that word in the novel.</h2>"
   ]
  },
  {
   "cell_type": "code",
   "execution_count": 41,
   "metadata": {
    "slideshow": {
     "slide_type": "fragment"
    }
   },
   "outputs": [
    {
     "data": {
      "text/plain": [
       "4"
      ]
     },
     "execution_count": 41,
     "metadata": {},
     "output_type": "execute_result"
    }
   ],
   "source": [
    "pride[4].i"
   ]
  },
  {
   "cell_type": "code",
   "execution_count": 42,
   "metadata": {
    "collapsed": true,
    "slideshow": {
     "slide_type": "fragment"
    }
   },
   "outputs": [],
   "source": [
    "def locations(needle, haystack): \n",
    "    \"\"\" \n",
    "    Make a list of locations, bin those into a histogram, \n",
    "    and finally put it into a Pandas Series object so that we\n",
    "    can later make it into a DataFrame. \n",
    "    \"\"\"\n",
    "    return pd.Series(np.histogram(\n",
    "        [word.i for word in haystack \n",
    "         if word.text.lower() == needle], bins=50)[0])"
   ]
  },
  {
   "cell_type": "code",
   "execution_count": 68,
   "metadata": {
    "slideshow": {
     "slide_type": "subslide"
    }
   },
   "outputs": [
    {
     "data": {
      "text/plain": [
       "array([<matplotlib.axes._subplots.AxesSubplot object at 0x14a1e4860>,\n",
       "       <matplotlib.axes._subplots.AxesSubplot object at 0x14a3f6a20>,\n",
       "       <matplotlib.axes._subplots.AxesSubplot object at 0x14a44cef0>,\n",
       "       <matplotlib.axes._subplots.AxesSubplot object at 0x14a4bc550>], dtype=object)"
      ]
     },
     "execution_count": 68,
     "metadata": {},
     "output_type": "execute_result"
    },
    {
     "data": {
      "image/png": "[encoded data removed]",
      "text/plain": [
       "<matplotlib.figure.Figure at 0x148fcee48>"
      ]
     },
     "metadata": {},
     "output_type": "display_data"
    }
   ],
   "source": [
    "rcParams['figure.figsize'] = 16, 8\n",
    "\n",
    "pd.DataFrame(\n",
    "    {name: locations(name.lower(), pride) \n",
    "     for name in ['Elizabeth', 'Darcy', 'Jane', 'Bennet']}\n",
    ").plot(subplots=True)"
   ]
  },
  {
   "cell_type": "markdown",
   "metadata": {
    "slideshow": {
     "slide_type": "slide"
    }
   },
   "source": [
    "# Exploring Named Entities\n",
    "\n",
    "Named entities can be accessed through `doc.ents`. Let's find all the types of named entities from _Monty Python and the Holy Grail_: "
   ]
  },
  {
   "cell_type": "code",
   "execution_count": 44,
   "metadata": {
    "slideshow": {
     "slide_type": "fragment"
    }
   },
   "outputs": [
    {
     "data": {
      "text/plain": [
       "{'CARDINAL',\n",
       " 'DATE',\n",
       " 'EVENT',\n",
       " 'FAC',\n",
       " 'GPE',\n",
       " 'LANGUAGE',\n",
       " 'LAW',\n",
       " 'MONEY',\n",
       " 'NORP',\n",
       " 'ORDINAL',\n",
       " 'ORG',\n",
       " 'PERCENT',\n",
       " 'PERSON',\n",
       " 'PRODUCT',\n",
       " 'QUANTITY',\n",
       " 'TIME',\n",
       " 'WORK_OF_ART'}"
      ]
     },
     "execution_count": 44,
     "metadata": {},
     "output_type": "execute_result"
    }
   ],
   "source": [
    "set([w.label_ for w in grail.ents])"
   ]
  },
  {
   "cell_type": "markdown",
   "metadata": {
    "slideshow": {
     "slide_type": "subslide"
    }
   },
   "source": [
    "<h2>What about those that are works of art?</h2>"
   ]
  },
  {
   "cell_type": "code",
   "execution_count": 45,
   "metadata": {
    "slideshow": {
     "slide_type": "fragment"
    }
   },
   "outputs": [
    {
     "data": {
      "text/plain": [
       "[LAUNCELOT: Look,\n",
       "  Open,\n",
       " Seek you the Bridge of Death,\n",
       " The Knights Who Say 'Ni',\n",
       " FATHER: Camelot,\n",
       " the Holy Hand Grenade,\n",
       " Consult the Book of Armaments,\n",
       " the Holy Pin]"
      ]
     },
     "execution_count": 45,
     "metadata": {},
     "output_type": "execute_result"
    }
   ],
   "source": [
    "[ent for ent in grail.ents if ent.label_ == 'WORK_OF_ART']"
   ]
  },
  {
   "cell_type": "markdown",
   "metadata": {
    "slideshow": {
     "slide_type": "subslide"
    }
   },
   "source": [
    "<h2>Place names?</h2>"
   ]
  },
  {
   "cell_type": "code",
   "execution_count": 46,
   "metadata": {
    "slideshow": {
     "slide_type": "fragment"
    }
   },
   "outputs": [
    {
     "data": {
      "text/plain": [
       "[England,\n",
       " Mercea,\n",
       " Mercea,\n",
       " the--,\n",
       " Divine,\n",
       " Providence,\n",
       " Quiet,\n",
       " Lancelot,\n",
       " Lancelot,\n",
       " Bristol,\n",
       " Camelot,\n",
       " Camelot,\n",
       " England,\n",
       " Thppppt,\n",
       " Launcelot,\n",
       " Galahad,\n",
       " Schools,\n",
       " Ewing,\n",
       " Castle Anthrax,\n",
       " Ni,\n",
       " Britain,\n",
       " here--,\n",
       " Idiom,\n",
       " Camelot,\n",
       " LAUNCELOT,\n",
       " Dramatically,\n",
       " NI,\n",
       " NI,\n",
       " NI,\n",
       " NI,\n",
       " NI,\n",
       " Bedevere,\n",
       " Nador,\n",
       " Spring,\n",
       " Autumn,\n",
       " Caerbannog,\n",
       " Aaaugh,\n",
       " Antioch,\n",
       " Antioch,\n",
       " France,\n",
       " Cornwall,\n",
       " the Bridge of Death,\n",
       " Assyria?,\n",
       " Launcelot,\n",
       " our--]"
      ]
     },
     "execution_count": 46,
     "metadata": {},
     "output_type": "execute_result"
    }
   ],
   "source": [
    "[ent for ent in grail.ents if ent.label_ == 'GPE']"
   ]
  },
  {
   "cell_type": "markdown",
   "metadata": {
    "slideshow": {
     "slide_type": "subslide"
    }
   },
   "source": [
    "<h2>Organizations?</h2>"
   ]
  },
  {
   "cell_type": "code",
   "execution_count": 47,
   "metadata": {
    "slideshow": {
     "slide_type": "fragment"
    }
   },
   "outputs": [
    {
     "data": {
      "text/plain": [
       "{'ARMY OF KNIGHTS',\n",
       " 'ARTHUR',\n",
       " 'Aramaic',\n",
       " 'Arimathea',\n",
       " 'BEDEVERE',\n",
       " 'BLACK',\n",
       " 'Badon Hill',\n",
       " 'Brave',\n",
       " 'Bridge of Death',\n",
       " 'CART',\n",
       " 'CART-MASTER',\n",
       " 'CRAPPER',\n",
       " 'Caerbannog--',\n",
       " 'Camelot',\n",
       " 'Chaste',\n",
       " 'Chicken of',\n",
       " 'Excalibur',\n",
       " 'Farewell',\n",
       " 'GUEST',\n",
       " 'Galahad',\n",
       " 'Grail',\n",
       " 'HISTORIAN',\n",
       " 'Heh',\n",
       " 'Holy Grail',\n",
       " \"I'm-- I'm\",\n",
       " 'I--',\n",
       " 'I-- I--',\n",
       " 'KNIGHT',\n",
       " 'KNIGHTS',\n",
       " 'Knights',\n",
       " 'LAUNCELOT',\n",
       " 'Launcelot',\n",
       " 'MAN',\n",
       " 'MAYNARD',\n",
       " 'MIDGET',\n",
       " 'MINSTREL',\n",
       " 'O Knights',\n",
       " 'O Knights of--',\n",
       " 'Olfin Bedwere of Rheged',\n",
       " 'PRINCESS LUCKY',\n",
       " 'Pie Iesu',\n",
       " 'Princess Lucky',\n",
       " 'Pure',\n",
       " 'SCENE',\n",
       " 'SENTRY',\n",
       " 'SOLDIER',\n",
       " 'Saxons',\n",
       " 'Spring',\n",
       " 'Summer',\n",
       " 'The Black Knight',\n",
       " 'The Bridge of Death',\n",
       " 'The Castle Aaagh',\n",
       " 'The Castle Anthrax',\n",
       " 'The Holy Hand Grenade',\n",
       " 'The Lady of',\n",
       " 'Uther Pendragon',\n",
       " 'cave--',\n",
       " 'the Castle Anthrax',\n",
       " 'the Castle of',\n",
       " 'the Court of Camelot',\n",
       " 'the Gorge of Eternal Peril',\n",
       " 'the Holy Grail',\n",
       " 'the Knights of',\n",
       " 'the Round Table',\n",
       " 'the Tall Tower',\n",
       " 'the Tall Tower of'}"
      ]
     },
     "execution_count": 47,
     "metadata": {},
     "output_type": "execute_result"
    }
   ],
   "source": [
    "set(list([ent.string.strip() for ent in grail.ents if ent.label_ == 'ORG']))"
   ]
  },
  {
   "cell_type": "markdown",
   "metadata": {
    "slideshow": {
     "slide_type": "subslide"
    }
   },
   "source": [
    "<h2>How about groups of people?</h2>"
   ]
  },
  {
   "cell_type": "code",
   "execution_count": 48,
   "metadata": {
    "slideshow": {
     "slide_type": "fragment"
    }
   },
   "outputs": [
    {
     "data": {
      "text/plain": [
       "{'African ',\n",
       " 'Britons',\n",
       " 'English ',\n",
       " 'European ',\n",
       " 'French',\n",
       " 'French ',\n",
       " 'NARRATOR',\n",
       " 'Summer ',\n",
       " 'VILLAGER ',\n",
       " 'Winter',\n",
       " 'Winter '}"
      ]
     },
     "execution_count": 48,
     "metadata": {},
     "output_type": "execute_result"
    }
   ],
   "source": [
    "set([ent.string for ent in grail.ents if ent.label_ == 'NORP'])"
   ]
  },
  {
   "cell_type": "markdown",
   "metadata": {
    "slideshow": {
     "slide_type": "subslide"
    }
   },
   "source": [
    "<h2>\"French\" here refers to French _people_, not the French language. We can verify that by getting all the sentences in which this particular type of entity occurs:</h2>"
   ]
  },
  {
   "cell_type": "code",
   "execution_count": 49,
   "metadata": {
    "slideshow": {
     "slide_type": "fragment"
    }
   },
   "outputs": [
    {
     "data": {
      "text/plain": [
       "[FRENCH GUARD: I'm French!  ,\n",
       " Well, now, uh, Launcelot, Galahad, and I, uh, wait until nightfall, and then leap out of the rabbit, taking the French, uh, by surprise.  ,\n",
       " The ferocity of the French taunting took him completely by surprise, and Arthur became convinced that a new strategy was required if the quest for the Holy Grail were to be brought to a successful conclusion.  ,\n",
       " So, we French fellows outwit you a second time!,\n",
       " So, you think you could out-clever us French folk with your silly knees-bent running about advancing behaviour?!  ,\n",
       " ARTHUR: Stand by for attack! [exciting music] [music stops] [silence] French persons!]"
      ]
     },
     "execution_count": 49,
     "metadata": {},
     "output_type": "execute_result"
    }
   ],
   "source": [
    "frenchPeople = [ent for ent in grail.ents if ent.label_ == 'NORP' and ent.string.strip() == 'French']\n",
    "[ent.sent for ent in frenchPeople]"
   ]
  },
  {
   "cell_type": "markdown",
   "metadata": {
    "slideshow": {
     "slide_type": "slide"
    }
   },
   "source": [
    "<h2>Parts of Speech</h2>\n",
    "\n",
    "<h3>Each word already has a part of speech and a tag associated with it. Here's a list of all the parts of speech in _Pride and Prejudice_:<h3>"
   ]
  },
  {
   "cell_type": "code",
   "execution_count": 57,
   "metadata": {
    "slideshow": {
     "slide_type": "fragment"
    }
   },
   "outputs": [
    {
     "data": {
      "text/plain": [
       "{82: 'ADJ',\n",
       " 83: 'ADP',\n",
       " 84: 'ADV',\n",
       " 87: 'CCONJ',\n",
       " 88: 'DET',\n",
       " 89: 'INTJ',\n",
       " 90: 'NOUN',\n",
       " 91: 'NUM',\n",
       " 92: 'PART',\n",
       " 93: 'PRON',\n",
       " 94: 'PROPN',\n",
       " 95: 'PUNCT',\n",
       " 97: 'SYM',\n",
       " 98: 'VERB',\n",
       " 99: 'X',\n",
       " 101: 'SPACE'}"
      ]
     },
     "execution_count": 57,
     "metadata": {},
     "output_type": "execute_result"
    }
   ],
   "source": [
    "# Make a quick-and-dirty lookup table of POS IDs, \n",
    "# since the default representation of a POS is numeric. \n",
    "tagDict = {w.pos: w.pos_ for w in pride} \n",
    "tagDict"
   ]
  },
  {
   "cell_type": "markdown",
   "metadata": {
    "slideshow": {
     "slide_type": "subslide"
    }
   },
   "source": [
    "<h2>It's fun to compare the distribution of parts of speech in each text:</h2>"
   ]
  },
  {
   "cell_type": "code",
   "execution_count": 51,
   "metadata": {
    "slideshow": {
     "slide_type": "subslide"
    }
   },
   "outputs": [
    {
     "data": {
      "text/plain": [
       "<matplotlib.axes._subplots.AxesSubplot at 0x148fc4fd0>"
      ]
     },
     "execution_count": 51,
     "metadata": {},
     "output_type": "execute_result"
    },
    {
     "data": {
      "image/png": "[encoded data removed]",
      "text/plain": [
       "<matplotlib.figure.Figure at 0x104b265c0>"
      ]
     },
     "metadata": {},
     "output_type": "display_data"
    }
   ],
   "source": [
    "grailPOS = pd.Series(grail.count_by(spacy.attrs.POS))/len(grail)\n",
    "pridePOS = pd.Series(pride.count_by(spacy.attrs.POS))/len(pride)\n",
    "\n",
    "rcParams['figure.figsize'] = 16, 8\n",
    "df = pd.DataFrame([grailPOS, pridePOS], index=['Grail', 'Pride'])\n",
    "df.columns = [tagDict[column] for column in df.columns]\n",
    "df.T.plot(kind='bar')"
   ]
  },
  {
   "cell_type": "markdown",
   "metadata": {
    "slideshow": {
     "slide_type": "subslide"
    }
   },
   "source": [
    "<h2>Now we can see, for instance, what the most common pronouns might be:</h2>"
   ]
  },
  {
   "cell_type": "code",
   "execution_count": 52,
   "metadata": {
    "slideshow": {
     "slide_type": "fragment"
    }
   },
   "outputs": [
    {
     "data": {
      "text/plain": [
       "[('I', 2066),\n",
       " ('she', 1384),\n",
       " ('it', 1287),\n",
       " ('you', 1145),\n",
       " ('he', 1100),\n",
       " ('him', 762),\n",
       " ('her', 716),\n",
       " ('they', 477),\n",
       " ('me', 444),\n",
       " ('them', 433)]"
      ]
     },
     "execution_count": 52,
     "metadata": {},
     "output_type": "execute_result"
    }
   ],
   "source": [
    "prideAdjs = [w for w in pride if w.pos_ == 'PRON']\n",
    "Counter([w.string.strip() for w in prideAdjs]).most_common(10)"
   ]
  },
  {
   "cell_type": "code",
   "execution_count": 69,
   "metadata": {
    "slideshow": {
     "slide_type": "fragment"
    }
   },
   "outputs": [
    {
     "data": {
      "text/plain": [
       "[('I', 240),\n",
       " ('you', 202),\n",
       " ('it', 106),\n",
       " ('You', 61),\n",
       " ('We', 60),\n",
       " ('we', 57),\n",
       " ('me', 46),\n",
       " ('He', 46),\n",
       " ('he', 42),\n",
       " ('her', 36)]"
      ]
     },
     "execution_count": 69,
     "metadata": {},
     "output_type": "execute_result"
    }
   ],
   "source": [
    "grailAdjs = [w for w in grail if w.pos_ == 'PRON']\n",
    "Counter([w.string.strip() for w in grailAdjs]).most_common(10)"
   ]
  },
  {
   "cell_type": "markdown",
   "metadata": {
    "slideshow": {
     "slide_type": "subslide"
    }
   },
   "source": [
    "<h2>Let's try this on the level of a sentence. First, let's get all the sentences in which Sir Robin is explicitly mentioned:</h2>"
   ]
  },
  {
   "cell_type": "code",
   "execution_count": 70,
   "metadata": {
    "slideshow": {
     "slide_type": "subslide"
    }
   },
   "outputs": [
    {
     "data": {
      "text/plain": [
       "[Then I dub you Sir Bedevere, Knight of the Round Table\n",
       " NARRATOR: The wise Sir Bedevere was the first to join King Arthur's knights, but other illustrious names were soon to follow: Sir Lancelot the Brave; Sir Gallahad the Pure; and Sir Robin the-not-quite-so-brave-as-Sir-Lancelot, who had nearly fought the Dragon of Angnor, who had nearly stood up to the vicious Chicken of Bristol, and who had personally wet himself at the Battle of Badon Hill; and the aptly named Sir Not-appearing-in-this-film.  ,\n",
       " Now, this is what they did: Launcelot--\n",
       " KNIGHT: Aaaah! [slash] [KNIGHT kills HISTORIAN] \n",
       " HISTORIAN'S WIFE: Frank\n",
       " SCENE 10: [trumpets] \n",
       " NARRATOR: The Tale of Sir Robin.  ,\n",
       " Sir Robin rode north, through the dark forest of Ewing, accompanied by his favorite minstrels.,\n",
       " MINSTREL: [singing] Bravely bold Sir Robin, rode forth from Camelot.  ,\n",
       " He was not afraid to die, O brave Sir Robin.  ,\n",
       " Brave, brave, brave, brave Sir Robin!  ,\n",
       " To have his kneecaps split, and his body burned away, And his limbs all hacked and mangled, brave Sir Robin!,\n",
       " MINSTREL: [singing] He is brave Sir Robin, brave Sir Robin, who--\n",
       " ROBIN: Shut up!  ,\n",
       " He's scarper\n",
       " MINSTREL: [singing] Brave Sir Robin ran away.,\n",
       " MINSTREL: [singing] Yes, brave Sir Robin turned about\n",
       " ROBIN: I didn't!\n",
       " MINSTREL: [singing] And gallantly he chickened out, bravely taking to his feet.,\n",
       " ROBIN: All lies!\n",
       " MINSTREL: [singing] Bravest of the brave, Sir Robin.,\n",
       " BEDEVERE: My liege, it's Sir Robin!,\n",
       " ARTHUR: Sir Robin!,\n",
       " so, Arthur and Bedevere and Sir Robin set out on their search to find the enchanter of whom the old man had spoken in scene twenty-four.  ,\n",
       " ARTHUR: Sir Robin!,\n",
       " ROBIN: Yes?\n",
       " ARTHUR: Brave Sir Robin, you go.,\n",
       " ROBIN: Sir Robin of Camelot.]"
      ]
     },
     "execution_count": 70,
     "metadata": {},
     "output_type": "execute_result"
    }
   ],
   "source": [
    "robinSents = [sent for sent in grail.sents if 'Sir Robin' in sent.string]\n",
    "robinSents"
   ]
  },
  {
   "cell_type": "markdown",
   "metadata": {
    "slideshow": {
     "slide_type": "subslide"
    }
   },
   "source": [
    "<h2>Now let's analyze just one of these sentences.</h2>"
   ]
  },
  {
   "cell_type": "code",
   "execution_count": 71,
   "metadata": {
    "slideshow": {
     "slide_type": "fragment"
    }
   },
   "outputs": [
    {
     "data": {
      "text/plain": [
       "Sir Robin rode north, through the dark forest of Ewing, accompanied by his favorite minstrels."
      ]
     },
     "execution_count": 71,
     "metadata": {},
     "output_type": "execute_result"
    }
   ],
   "source": [
    "r2 = robinSents[2]\n",
    "r2"
   ]
  },
  {
   "cell_type": "markdown",
   "metadata": {
    "slideshow": {
     "slide_type": "subslide"
    }
   },
   "source": [
    "<h2>Let's look at the tags and parts of speech:</h2>"
   ]
  },
  {
   "cell_type": "code",
   "execution_count": 72,
   "metadata": {
    "slideshow": {
     "slide_type": "fragment"
    }
   },
   "outputs": [
    {
     "name": "stdout",
     "output_type": "stream",
     "text": [
      "Sir NNP PROPN\n",
      "Robin NNP PROPN\n",
      "rode VBD VERB\n",
      "north NN NOUN\n",
      ", , PUNCT\n",
      "through IN ADP\n",
      "the DT DET\n",
      "dark JJ ADJ\n",
      "forest NN NOUN\n",
      "of IN ADP\n",
      "Ewing NNP PROPN\n",
      ", , PUNCT\n",
      "accompanied VBN VERB\n",
      "by IN ADP\n",
      "his PRP$ ADJ\n",
      "favorite JJ ADJ\n",
      "minstrels NNS NOUN\n",
      ". . PUNCT\n",
      "\n",
      " SP SPACE\n"
     ]
    }
   ],
   "source": [
    "for word in r2: \n",
    "    print(word, word.tag_, word.pos_)"
   ]
  },
  {
   "cell_type": "markdown",
   "metadata": {
    "slideshow": {
     "slide_type": "slide"
    }
   },
   "source": [
    "# Dependency Parsing\n",
    "Now let's analyze the structure of the sentence. "
   ]
  },
  {
   "cell_type": "markdown",
   "metadata": {
    "slideshow": {
     "slide_type": "subslide"
    }
   },
   "source": [
    "<h2>This sentence has lots of properties:</h2>"
   ]
  },
  {
   "cell_type": "code",
   "execution_count": 73,
   "metadata": {
    "slideshow": {
     "slide_type": "fragment"
    }
   },
   "outputs": [
    {
     "data": {
      "text/plain": [
       "['doc',\n",
       " 'end',\n",
       " 'end_char',\n",
       " 'ent_id',\n",
       " 'ent_id_',\n",
       " 'has_vector',\n",
       " 'label',\n",
       " 'label_',\n",
       " 'lefts',\n",
       " 'lemma_',\n",
       " 'lower_',\n",
       " 'merge',\n",
       " 'noun_chunks',\n",
       " 'orth_',\n",
       " 'rights',\n",
       " 'root',\n",
       " 'sent',\n",
       " 'sentiment',\n",
       " 'similarity',\n",
       " 'start',\n",
       " 'start_char',\n",
       " 'string',\n",
       " 'subtree',\n",
       " 'text',\n",
       " 'text_with_ws',\n",
       " 'upper_',\n",
       " 'vector',\n",
       " 'vector_norm']"
      ]
     },
     "execution_count": 73,
     "metadata": {},
     "output_type": "execute_result"
    }
   ],
   "source": [
    "[prop for prop in dir(r2) if not prop.startswith('_')]"
   ]
  },
  {
   "cell_type": "markdown",
   "metadata": {
    "slideshow": {
     "slide_type": "subslide"
    }
   },
   "source": [
    "<h2>To drill down into the sentence, we can start with the root:</h2>"
   ]
  },
  {
   "cell_type": "code",
   "execution_count": 74,
   "metadata": {
    "slideshow": {
     "slide_type": "fragment"
    }
   },
   "outputs": [
    {
     "data": {
      "text/plain": [
       "rode"
      ]
     },
     "execution_count": 74,
     "metadata": {},
     "output_type": "execute_result"
    }
   ],
   "source": [
    "r2.root"
   ]
  },
  {
   "cell_type": "markdown",
   "metadata": {
    "slideshow": {
     "slide_type": "fragment"
    }
   },
   "source": [
    "<h2>That root has children:</h2>"
   ]
  },
  {
   "cell_type": "code",
   "execution_count": 75,
   "metadata": {
    "slideshow": {
     "slide_type": "fragment"
    }
   },
   "outputs": [
    {
     "data": {
      "text/plain": [
       "[Robin, north, through, .]"
      ]
     },
     "execution_count": 75,
     "metadata": {},
     "output_type": "execute_result"
    }
   ],
   "source": [
    "list(r2.root.children)"
   ]
  },
  {
   "cell_type": "markdown",
   "metadata": {
    "slideshow": {
     "slide_type": "subslide"
    }
   },
   "source": [
    "<h2>Let's see all of the children for each word:</h2>"
   ]
  },
  {
   "cell_type": "code",
   "execution_count": 76,
   "metadata": {
    "slideshow": {
     "slide_type": "fragment"
    }
   },
   "outputs": [
    {
     "name": "stdout",
     "output_type": "stream",
     "text": [
      "Sir :  []\n",
      "Robin :  [Sir]\n",
      "rode :  [Robin, north, through, .]\n",
      "north :  [,]\n",
      ", :  []\n",
      "through :  [forest]\n",
      "the :  []\n",
      "dark :  []\n",
      "forest :  [the, dark, of, accompanied]\n",
      "of :  [Ewing]\n",
      "Ewing :  [,]\n",
      ", :  []\n",
      "accompanied :  [by]\n",
      "by :  [minstrels]\n",
      "his :  []\n",
      "favorite :  []\n",
      "minstrels :  [his, favorite]\n",
      ". :  [\n",
      "]\n",
      "\n",
      " :  []\n"
     ]
    }
   ],
   "source": [
    "for word in r2: \n",
    "    print(word, ': ', str(list(word.children)))"
   ]
  },
  {
   "cell_type": "markdown",
   "metadata": {
    "slideshow": {
     "slide_type": "subslide"
    }
   },
   "source": [
    "<h2>Since adjectives are typically children of the things they describe, we can get approximations for adjectives that describe characters. How is Sir Robin described?</h2>"
   ]
  },
  {
   "cell_type": "code",
   "execution_count": 77,
   "metadata": {
    "slideshow": {
     "slide_type": "fragment"
    }
   },
   "outputs": [
    {
     "name": "stdout",
     "output_type": "stream",
     "text": [
      "brave\n",
      "bold\n",
      "brave\n",
      "brave\n",
      "brave\n",
      "brave\n",
      "brave\n",
      "brave\n"
     ]
    }
   ],
   "source": [
    "for sent in robinSents: \n",
    "    for word in sent: \n",
    "        if 'Robin' in word.string: \n",
    "            for child in word.children: \n",
    "                if child.pos_ == 'ADJ':\n",
    "                    print(child)"
   ]
  },
  {
   "cell_type": "markdown",
   "metadata": {
    "slideshow": {
     "slide_type": "subslide"
    }
   },
   "source": [
    "<h2>Now let's do something similar for Pride and Prejudice. First, we'll use named entity extraction to get a list of the most frequently mentioned characters:</h2>"
   ]
  },
  {
   "cell_type": "code",
   "execution_count": 78,
   "metadata": {
    "slideshow": {
     "slide_type": "fragment"
    }
   },
   "outputs": [
    {
     "data": {
      "text/plain": [
       "[('Elizabeth', 577),\n",
       " ('Darcy', 285),\n",
       " ('Jane', 258),\n",
       " ('Bennet', 247),\n",
       " ('Collins', 173),\n",
       " ('Wickham', 170),\n",
       " ('Bingley', 162),\n",
       " ('Lydia', 130),\n",
       " ('Lizzy', 93),\n",
       " ('Gardiner', 90)]"
      ]
     },
     "execution_count": 78,
     "metadata": {},
     "output_type": "execute_result"
    }
   ],
   "source": [
    "Counter([w.string.strip() for w in pride.ents if w.label_ == 'PERSON']).most_common(10)"
   ]
  },
  {
   "cell_type": "markdown",
   "metadata": {
    "slideshow": {
     "slide_type": "subslide"
    }
   },
   "source": [
    "<h2>Now we can write a function that walks down the tree from each character, looking for the first adjectives it can find:</h2>"
   ]
  },
  {
   "cell_type": "code",
   "execution_count": 79,
   "metadata": {
    "collapsed": true,
    "slideshow": {
     "slide_type": "fragment"
    }
   },
   "outputs": [],
   "source": [
    "def adjectivesDescribingCharacters(text, character):\n",
    "    sents = [sent for sent in pride.sents if character in sent.string]\n",
    "    adjectives = []\n",
    "    for sent in sents: \n",
    "        for word in sent: \n",
    "            if character in word.string:\n",
    "                for child in word.children: \n",
    "                    if child.pos_ == 'ADJ': \n",
    "                        adjectives.append(child.string.strip())\n",
    "    return Counter(adjectives).most_common(10)"
   ]
  },
  {
   "cell_type": "markdown",
   "metadata": {
    "slideshow": {
     "slide_type": "subslide"
    }
   },
   "source": [
    "<h2>We'll try it on Mr. Darcy:</h2>"
   ]
  },
  {
   "cell_type": "code",
   "execution_count": 80,
   "metadata": {
    "slideshow": {
     "slide_type": "fragment"
    }
   },
   "outputs": [
    {
     "data": {
      "text/plain": [
       "[('late', 4),\n",
       " ('present', 2),\n",
       " ('disappointing', 1),\n",
       " ('bad', 1),\n",
       " ('superior', 1),\n",
       " ('abominable', 1),\n",
       " ('whose', 1),\n",
       " ('its', 1),\n",
       " ('poor', 1),\n",
       " ('deficient', 1)]"
      ]
     },
     "execution_count": 80,
     "metadata": {},
     "output_type": "execute_result"
    }
   ],
   "source": [
    "adjectivesDescribingCharacters(pride, 'Darcy')"
   ]
  },
  {
   "cell_type": "markdown",
   "metadata": {
    "slideshow": {
     "slide_type": "subslide"
    }
   },
   "source": [
    "<h2>Now let's do the same sort of thing, but look for associated verbs. First, let's get all the sentences in which Elizabeth is mentioned:</h2>"
   ]
  },
  {
   "cell_type": "code",
   "execution_count": 81,
   "metadata": {
    "collapsed": true,
    "slideshow": {
     "slide_type": "fragment"
    }
   },
   "outputs": [],
   "source": [
    "elizabethSentences = [sent for sent in pride.sents if 'Elizabeth' in sent.string]"
   ]
  },
  {
   "cell_type": "code",
   "execution_count": 82,
   "metadata": {
    "slideshow": {
     "slide_type": "fragment"
    }
   },
   "outputs": [
    {
     "data": {
      "text/plain": [
       "Mr. Darcy walked off; and Elizabeth\n",
       "remained with no very cordial feelings toward him."
      ]
     },
     "execution_count": 82,
     "metadata": {},
     "output_type": "execute_result"
    }
   ],
   "source": [
    "elizabethSentences[3]"
   ]
  },
  {
   "cell_type": "markdown",
   "metadata": {
    "slideshow": {
     "slide_type": "fragment"
    }
   },
   "source": [
    "<h3>We want the verb associated with Elizabeth, _remained_, not the root verb of the sentence, _walked_, which is associated with Mr. Darcy. So let's write a function that will walk up the dependency tree from a character's name until we get to the first verb. \n",
    "\n",
    "We'll use lemmas instead of the conjugated forms to collapse _remain_, _remains_, and _remained_ into one verb: _remain_.</h3>"
   ]
  },
  {
   "cell_type": "code",
   "execution_count": 91,
   "metadata": {
    "collapsed": true,
    "slideshow": {
     "slide_type": "fragment"
    }
   },
   "outputs": [],
   "source": [
    "def verbsForCharacters(text, character):\n",
    "    sents = [sent for sent in pride.sents if character in sent.string]\n",
    "    charWords = []\n",
    "    for sent in sents: \n",
    "        for word in sent: \n",
    "            if character in word.string: \n",
    "                charWords.append(word)\n",
    "    charAdjectives = []\n",
    "    for word in charWords: \n",
    "        # Start walking up the list of ancestors \n",
    "        # Until we get to the first verb. \n",
    "        for ancestor in word.ancestors: \n",
    "            if ancestor.pos_.startswith('V'): \n",
    "                charAdjectives.append(ancestor.lemma_.strip())\n",
    "    return Counter(charAdjectives).most_common(20)"
   ]
  },
  {
   "cell_type": "code",
   "execution_count": 92,
   "metadata": {
    "scrolled": true,
    "slideshow": {
     "slide_type": "subslide"
    }
   },
   "outputs": [
    {
     "data": {
      "text/plain": [
       "[('be', 200),\n",
       " ('say', 64),\n",
       " ('have', 33),\n",
       " ('see', 25),\n",
       " ('reply', 24),\n",
       " ('cry', 24),\n",
       " ('make', 20),\n",
       " ('look', 17),\n",
       " ('feel', 17),\n",
       " ('give', 13),\n",
       " ('think', 11),\n",
       " ('receive', 10),\n",
       " ('take', 10),\n",
       " ('walk', 9),\n",
       " ('begin', 9),\n",
       " ('know', 9),\n",
       " ('go', 9),\n",
       " ('listen', 8),\n",
       " ('help', 8),\n",
       " ('find', 8)]"
      ]
     },
     "execution_count": 92,
     "metadata": {},
     "output_type": "execute_result"
    }
   ],
   "source": [
    "elizabethVerbs = verbsForCharacters(pride, 'Elizabeth')\n",
    "elizabethVerbs"
   ]
  },
  {
   "cell_type": "code",
   "execution_count": 95,
   "metadata": {
    "slideshow": {
     "slide_type": "subslide"
    }
   },
   "outputs": [
    {
     "data": {
      "text/plain": [
       "[('be', 131),\n",
       " ('say', 22),\n",
       " ('have', 18),\n",
       " ('see', 16),\n",
       " ('think', 15),\n",
       " ('make', 9),\n",
       " ('look', 9),\n",
       " ('cry', 8),\n",
       " ('know', 8),\n",
       " ('find', 8),\n",
       " ('reply', 8),\n",
       " ('feel', 7),\n",
       " ('give', 7),\n",
       " ('write', 7),\n",
       " ('take', 6),\n",
       " ('seem', 5),\n",
       " ('receive', 5),\n",
       " ('go', 5),\n",
       " ('pass', 5),\n",
       " ('wish', 4)]"
      ]
     },
     "execution_count": 95,
     "metadata": {},
     "output_type": "execute_result"
    }
   ],
   "source": [
    "darcyVerbs = verbsForCharacters(pride, 'Darcy')\n",
    "#darcyVerbs\n",
    "janeVerbs = verbsForCharacters(pride, 'Jane')\n",
    "janeVerbs"
   ]
  },
  {
   "cell_type": "markdown",
   "metadata": {
    "slideshow": {
     "slide_type": "subslide"
    }
   },
   "source": [
    "<h2>Now merge these counts into a single table, and then visualize it with Pandas.</h2>"
   ]
  },
  {
   "cell_type": "code",
   "execution_count": 96,
   "metadata": {
    "slideshow": {
     "slide_type": "subslide"
    }
   },
   "outputs": [
    {
     "data": {
      "text/plain": [
       "<matplotlib.axes._subplots.AxesSubplot at 0x14a653d68>"
      ]
     },
     "execution_count": 96,
     "metadata": {},
     "output_type": "execute_result"
    },
    {
     "data": {
      "image/png": "[encoded data removed]",
      "text/plain": [
       "<matplotlib.figure.Figure at 0x14a63b9e8>"
      ]
     },
     "metadata": {},
     "output_type": "display_data"
    }
   ],
   "source": [
    "def verbsToMatrix(verbCounts): \n",
    "    \"\"\" \n",
    "    Takes verb counts given by verbsForCharacters \n",
    "    and makes Pandas Series out of them, suitabe for combination in \n",
    "    a DataFrame. \n",
    "    \"\"\"\n",
    "    return pd.Series({t[0]: t[1] for t in verbCounts})\n",
    "\n",
    "verbsDF = pd.DataFrame({'Elizabeth': verbsToMatrix(elizabethVerbs), \n",
    "                        'Darcy': verbsToMatrix(darcyVerbs), \n",
    "                        'Jane': verbsToMatrix(janeVerbs)}).fillna(0)\n",
    "verbsDF.plot(kind='bar', figsize=(14,4))"
   ]
  },
  {
   "cell_type": "markdown",
   "metadata": {
    "slideshow": {
     "slide_type": "slide"
    }
   },
   "source": [
    "# Probabilities\n",
    "\n",
    "SpaCy has a list of probabilities for English words, and these probabilities are automatically associated with each word once we parse the document. Let's see what the distribution is like: "
   ]
  },
  {
   "cell_type": "code",
   "execution_count": 97,
   "metadata": {
    "slideshow": {
     "slide_type": "subslide"
    }
   },
   "outputs": [
    {
     "data": {
      "text/plain": [
       "<matplotlib.axes._subplots.AxesSubplot at 0x11b04eda0>"
      ]
     },
     "execution_count": 97,
     "metadata": {},
     "output_type": "execute_result"
    },
    {
     "data": {
      "image/png": "[encoded data removed]",
      "text/plain": [
       "<matplotlib.figure.Figure at 0x11b965ef0>"
      ]
     },
     "metadata": {},
     "output_type": "display_data"
    }
   ],
   "source": [
    "probabilities = [word.prob for word in grail] \n",
    "pd.Series(probabilities).hist()"
   ]
  },
  {
   "cell_type": "markdown",
   "metadata": {
    "slideshow": {
     "slide_type": "slide"
    }
   },
   "source": [
    "<h2>Let's look at some of the improbable words for _Monty Python and the Holy Grail_.</h2>"
   ]
  },
  {
   "cell_type": "code",
   "execution_count": 98,
   "metadata": {
    "scrolled": true,
    "slideshow": {
     "slide_type": "subslide"
    }
   },
   "outputs": [
    {
     "data": {
      "text/plain": [
       "['morning',\n",
       " 'moistened',\n",
       " 'mashed',\n",
       " 'hast',\n",
       " 'peng',\n",
       " 'eh--',\n",
       " 'heee',\n",
       " 'lair',\n",
       " 'binding',\n",
       " 'book',\n",
       " 'recently',\n",
       " 'looked--',\n",
       " 'cart',\n",
       " 'tropical',\n",
       " 'accompanied',\n",
       " 'bravely',\n",
       " 'boil',\n",
       " 'opera',\n",
       " 'cope',\n",
       " 'aramaic']"
      ]
     },
     "execution_count": 98,
     "metadata": {},
     "output_type": "execute_result"
    }
   ],
   "source": [
    "list(set([word.string.strip().lower() for word in grail if word.prob < -19]))[:20]"
   ]
  },
  {
   "cell_type": "markdown",
   "metadata": {
    "slideshow": {
     "slide_type": "slide"
    }
   },
   "source": [
    "<h2>Now we can do some rudimentary information extraction by counting the improbable words:</h2>"
   ]
  },
  {
   "cell_type": "code",
   "execution_count": 99,
   "metadata": {
    "scrolled": true,
    "slideshow": {
     "slide_type": "subslide"
    }
   },
   "outputs": [
    {
     "data": {
      "text/plain": [
       "[('arthur', 261),\n",
       " ('launcelot', 100),\n",
       " ('knight', 84),\n",
       " ('galahad', 80),\n",
       " ('ni', 69),\n",
       " ('father', 68),\n",
       " ('bedevere', 67),\n",
       " ('knights', 65),\n",
       " ('robin', 58),\n",
       " ('head', 54),\n",
       " ('guard', 53),\n",
       " ('villager', 47),\n",
       " ('clop', 39),\n",
       " ('grail', 39),\n",
       " ('tim', 34),\n",
       " ('black', 32),\n",
       " ('burn', 32),\n",
       " ('mumble', 30),\n",
       " ('french', 29),\n",
       " ('squeak', 29)]"
      ]
     },
     "execution_count": 99,
     "metadata": {},
     "output_type": "execute_result"
    }
   ],
   "source": [
    "Counter([word.string.strip().lower() \n",
    "         for word in grail \n",
    "         if word.prob < -19.5]).most_common(20)"
   ]
  },
  {
   "cell_type": "markdown",
   "metadata": {
    "slideshow": {
     "slide_type": "slide"
    }
   },
   "source": [
    "<h2>What are those words for _Pride and Prejudice_?</h2>"
   ]
  },
  {
   "cell_type": "code",
   "execution_count": 100,
   "metadata": {
    "slideshow": {
     "slide_type": "subslide"
    }
   },
   "outputs": [
    {
     "data": {
      "text/plain": [
       "[('cried', 91),\n",
       " ('aunt', 84),\n",
       " ('sisters', 73),\n",
       " ('chapter', 60),\n",
       " ('affection', 58),\n",
       " ('acquaintance', 52),\n",
       " ('agreeable', 45),\n",
       " ('scarcely', 45),\n",
       " ('manners', 44),\n",
       " ('carriage', 44),\n",
       " ('honour', 42),\n",
       " ('civility', 42),\n",
       " ('ladyship', 42),\n",
       " ('wished', 40),\n",
       " ('gentleman', 39),\n",
       " ('spirits', 39),\n",
       " ('gentlemen', 38),\n",
       " ('handsome', 37),\n",
       " ('amiable', 35),\n",
       " ('invitation', 34)]"
      ]
     },
     "execution_count": 100,
     "metadata": {},
     "output_type": "execute_result"
    }
   ],
   "source": [
    "Counter([word.string.strip().lower() \n",
    "         for word in pride \n",
    "         if word.prob < -19.5 \n",
    "         and word.is_alpha\n",
    "         and word.pos_ != 'PROPN'] # This time, let's ignore proper nouns.\n",
    "       ).most_common(20)"
   ]
  },
  {
   "cell_type": "markdown",
   "metadata": {
    "slideshow": {
     "slide_type": "slide"
    }
   },
   "source": [
    "<h2>We can do this with ngrams, too, with some fancy Python magic:</h2>"
   ]
  },
  {
   "cell_type": "code",
   "execution_count": 101,
   "metadata": {
    "collapsed": true,
    "slideshow": {
     "slide_type": "fragment"
    }
   },
   "outputs": [],
   "source": [
    "def ngrams(doc, n): \n",
    "    doc = [word for word in doc \n",
    "           if word.is_alpha # Get rid of punctuation\n",
    "           if not word.string.isupper()] # Get rid of all-caps speaker headings\n",
    "    return list(zip(*[doc[i:] for i in range(n)]))"
   ]
  },
  {
   "cell_type": "code",
   "execution_count": 107,
   "metadata": {
    "collapsed": true,
    "slideshow": {
     "slide_type": "fragment"
    }
   },
   "outputs": [],
   "source": [
    "grailGrams = set(ngrams(grail, 3))"
   ]
  },
  {
   "cell_type": "code",
   "execution_count": 109,
   "metadata": {
    "slideshow": {
     "slide_type": "subslide"
    }
   },
   "outputs": [
    {
     "name": "stdout",
     "output_type": "stream",
     "text": [
      "(farcical, aquatic, ceremony)\n",
      "(sir, fwump, Concorde)\n",
      "(Knights, Forward, boom)\n",
      "(bint, had, lobbed)\n",
      "(scribble, fold, fold)\n",
      "(clap, clap, clap)\n",
      "(mumble, boom, mumble)\n",
      "(twang, whispering, Forgive)\n",
      "(Clear, off, sniff)\n",
      "(dead, Ninepence, clang)\n",
      "(behold, your, humble)\n",
      "(Holy, Grail, singing)\n",
      "(Gorge, of, Eternal)\n",
      "(twang, splash, Heh)\n",
      "(Shh, Wood, So)\n",
      "(clap, clap, Oh)\n",
      "(pause, Hallo, Allo)\n",
      "(Thsss, boom, Ayy)\n",
      "(Action, Defeat, at)\n",
      "(rewr, squeak, squeak)\n",
      "(persons, taunting, Dappy)\n",
      "(eis, requiem, Wayy)\n",
      "(No, shrubberies, Ni)\n",
      "(floats, Throw, her)\n",
      "(awaaay, Run, awaaaaay)\n",
      "(Fetchez, la, vache)\n",
      "(mumble, mumble, mumble)\n",
      "(Hya, Hiyya, Ha)\n",
      "(Thppt, Thppt, What)\n",
      "(Aaaaaaaaah, woosh, kills)\n",
      "(Launcelot, of, Camelot)\n",
      "(Burn, Burn, Burn)\n",
      "(brave, Sir, Robin)\n",
      "(nnniggets, Thpppt, taunting)\n",
      "(thud, King, Arthur)\n",
      "(Oooh, ptoo, Ha)\n",
      "(Arthur, music, clop)\n",
      "(Heh, heh, heeh)\n",
      "(Aaauugh, Black, Beast)\n",
      "(you, gon, na)\n",
      "(Launcelot, angels, sing)\n",
      "(Holy, Hand, Grenade)\n",
      "(draw, Come, Patsy)\n",
      "(boom, wind, howl)\n",
      "(the, Grail, Seek)\n",
      "(halves, of, coconut)\n",
      "(More, witches, Shh)\n",
      "(sense, clap, clap)\n",
      "(bi, weekly, Yes)\n",
      "(bathing, dressing, undressing)\n",
      "(rewr, Old, crone)\n",
      "(aquatic, ceremony, Be)\n",
      "(a, sacred, quest)\n",
      "(requiem, Pie, Iesu)\n",
      "(foul, temptress, You)\n",
      "(Britons, defeator, of)\n",
      "(Table, clop, clop)\n",
      "(Cherries, Mud, Churches)\n",
      "(Concorde, Concorde, Speak)\n",
      "(Heee, Hoa, crash)\n",
      "(requiem, Pie, Iesu)\n",
      "(Aaah, hiyaah, etc)\n",
      "(But, Father, lad)\n",
      "(castle, and, giggle)\n",
      "(clop, clop, And)\n",
      "(the, Round, Table)\n",
      "(boom, Ohh, crash)\n",
      "(tit, soiled, my)\n",
      "(rrrr, rrrr, drilllll)\n",
      "(Piglet, Doctor, Winston)\n",
      "(carp, and, anchovies)\n",
      "(fatal, wounding, of)\n",
      "(van, Clear, off)\n",
      "(Iesu, domine, dona)\n",
      "(vests, and, impersonate)\n",
      "(clop, clop, clop)\n",
      "(on, Concorde, thwonk)\n",
      "(clop, clop, rewr)\n",
      "(squeak, squeak, squeak)\n",
      "(sworn, to, chastity)\n",
      "(Bravely, bold, Sir)\n",
      "(Hee, hee, heh)\n",
      "(giggle, giggle, giggle)\n",
      "(squeak, squeak, squeak)\n",
      "(oui, Hurry, What)\n",
      "(sacred, relics, Brother)\n",
      "(Knight, always, triumphs)\n",
      "(chanting, Pie, Iesu)\n",
      "(Herbert, Erbert, We)\n",
      "(squeak, boom, Hello)\n",
      "(Hold, it, Hold)\n",
      "(Quoi, Un, cadeau)\n",
      "(clop, clop, clop)\n",
      "(squeak, creak, whispering)\n",
      "(and, Neee, wom)\n",
      "(but, aaaaaah, Oooh)\n",
      "(Castle, of, uuggggggh)\n",
      "(Say, Ni, Ni)\n",
      "(sniff, mumble, mumble)\n",
      "(ho, Woa, wayy)\n",
      "(squeak, squeak, Aaaaugh)\n",
      "(The, coconut, tropical)\n",
      "(scribble, scribble, fold)\n",
      "(hospital, Ahh, squeak)\n",
      "(Shh, Shh, Shh)\n",
      "(it, ni, Nu)\n",
      "(squeak, squeak, squeak)\n",
      "(mumble, boom, mumble)\n",
      "(mumble, boom, mumble)\n",
      "(scott, Hm, Hmm)\n",
      "(Saint, Iiiives, Iiiiives)\n",
      "(lies, singing, Bravest)\n",
      "(Say, Ni, Ni)\n",
      "(Brave, Sir, Gallahad)\n",
      "(mumble, boom, mumble)\n",
      "(mumble, mumble, boom)\n",
      "(into, Spring, Mmm)\n",
      "(the, Britons, defeator)\n",
      "(coconut, tropical, What)\n",
      "(Burn, Burn, her)\n",
      "(clang, cough, cough)\n",
      "(praised, King, Arthur)\n",
      "(thud, clang, Bring)\n",
      "(worthy, adversary, Tis)\n",
      "(Right, Charge, Charge)\n",
      "(squeak, squeak, squeak)\n",
      "(Tim, the, Enchanter)\n",
      "(Anthrax, The, Castle)\n",
      "(boom, mumble, mumble)\n",
      "(the, Round, Table)\n",
      "(foot, Dis, mount)\n",
      "(clang, and, Agh)\n",
      "(Bedwere, of, Rheged)\n",
      "(Chicken, kick, Chickennn)\n",
      "(Fetchez, la, vache)\n",
      "(Ohh, Ni, Ni)\n",
      "(Sir, Robin, His)\n",
      "(then, twong, mooooooo)\n",
      "(witches, burn, pause)\n",
      "(Grail, Brave, brave)\n",
      "(bad, tempered, rodent)\n",
      "(scenes, With, footwork)\n",
      "(suggesting, coconuts, migrate)\n",
      "(wise, Sir, Bedevere)\n",
      "(whop, clunk, creak)\n",
      "(donkey, bottom, biters)\n",
      "(Thou, hast, vouchsafed)\n",
      "(door, squeak, thump)\n",
      "(chanting, Pie, Iesu)\n",
      "(Burn, Burn, her)\n",
      "(Ohh, Burn, the)\n",
      "(witches, Burn, Burn)\n",
      "(Sir, Galahad, Come)\n",
      "(boom, squeak, boom)\n",
      "(dead, clang, Bring)\n",
      "(sweet, Concorde, Stay)\n",
      "(Picture, for, Schools)\n",
      "(Pie, Iesu, domine)\n",
      "(Quiet, Quiet, There)\n",
      "(Lord, Right, Arthur)\n",
      "(performance, clop, clop)\n",
      "(Hand, Grenade, Yes)\n",
      "(Behold, angels, sing)\n",
      "(hee, hee, Ha)\n",
      "(a, valiant, knight)\n",
      "(Monsieur, Arthur, King)\n",
      "(k, nnnnniggets, Thpppppt)\n",
      "(witches, More, witches)\n",
      "(Grenade, chanting, Pie)\n",
      "(Round, Table, shall)\n",
      "(Ni, Shh, Ni)\n",
      "(Pie, Iesu, domine)\n",
      "(clop, clop, Halt)\n",
      "(that, Oooh, splat)\n",
      "(It, floats, Throw)\n",
      "(Aaaugh, Augh, Ohh)\n",
      "(closest, knights, decided)\n",
      "(God, Hoo, hoo)\n",
      "(howl, boom, angels)\n",
      "(in, ponds, distributing)\n",
      "(heh, ho, Heh)\n",
      "(ordinary, rabbit, Ohh)\n",
      "(bonk, dona, eis)\n",
      "(angels, sing, singing)\n",
      "(Antioch, Tis, one)\n",
      "(mumble, bells, Hah)\n",
      "(mumble, mumble, mumble)\n",
      "(fold, fold, twong)\n",
      "(Knights, of, Ni)\n",
      "(tempered, rodent, you)\n",
      "(haw, Ha, Ha)\n",
      "(Ni, Peng, and)\n",
      "(Pie, Iesu, domine)\n",
      "(Hand, Grenade, of)\n",
      "(Grail, Oh, wicked)\n",
      "(of, Swamp, Castle)\n",
      "(Burn, her, Burn)\n",
      "(laden, swallows, flights)\n",
      "(Round, Table, Who)\n",
      "(thwonk, Message, for)\n",
      "(mumble, boom, Ohh)\n",
      "(Hiyaah, clang, Aaaaaaaah)\n",
      "(Launcelot, Galahad, and)\n",
      "(Robin, brave, Sir)\n",
      "(Oh, Knights, Forward)\n",
      "(requiem, bonk, Pie)\n",
      "(Iesu, domine, bonk)\n",
      "(some, moistened, bint)\n",
      "(de, bois, Quoi)\n",
      "(hee, hee, Hee)\n",
      "(squeak, squeak, rrrr)\n",
      "(domine, dona, eis)\n",
      "(suddenly, stops, intermission)\n",
      "(marrying, Princess, Lucky)\n",
      "(heh, clack, Picture)\n",
      "(Hurry, Sir, Launcelot)\n",
      "(mumble, mumble, mumble)\n",
      "(illegitimate, faced, bugger)\n",
      "(swamp, Other, kings)\n",
      "(nearer, the, Grail)\n",
      "(clap, clap, clap)\n",
      "(rabbit, Ohh, That)\n",
      "(Burn, her, Burn)\n",
      "(hee, hee, hee)\n",
      "(unsingable, We, opera)\n",
      "(witch, witch, bonk)\n",
      "(glory, of, splat)\n",
      "(squeak, squeak, squeak)\n",
      "(a, Saint, Aauuuves)\n",
      "(Beast, of, Aaauugh)\n",
      "(Pin, Then, shalt)\n",
      "(Lead, duck, Oooh)\n",
      "(Lie, down, clap)\n",
      "(anchovies, and, orangutans)\n",
      "(carved, in, mystic)\n",
      "(No, auuuuuuuugh, Hee)\n",
      "(mumble, mumble, mumble)\n",
      "(One, rabbit, stew)\n",
      "(three, Four, shalt)\n",
      "(of, Uther, Pendragon)\n",
      "(hills, and, valleys)\n",
      "(Tall, Tower, you)\n",
      "(of, Ewing, accompanied)\n",
      "(being, repressed, Bloody)\n",
      "(a, newt, newt)\n",
      "(shrubbery, dramatic, chord)\n",
      "(aaaaaah, Oooh, My)\n",
      "(herring, dramatic, chord)\n",
      "(the, Tall, Tower)\n",
      "(wind, clop, clop)\n",
      "(dead, clang, Bring)\n",
      "(join, King, Arthur)\n",
      "(haw, haw, haw)\n",
      "(castle, Camelot, Uh)\n",
      "(Ulk, thump, The)\n",
      "(Saint, Aauuuves, in)\n",
      "(Run, awaaay, Run)\n",
      "(whispering, Forgive, me)\n",
      "(your, kingdom, lad)\n",
      "(gravy, Cherries, Mud)\n",
      "(clop, clop, Who)\n",
      "(outdated, imperialist, dogma)\n",
      "(towards, thy, foe)\n",
      "(hee, hee, hee)\n",
      "(ha, hee, hee)\n",
      "(That, rabbit, dynamite)\n",
      "(French, fellows, outwit)\n",
      "(Bors, Chop, his)\n",
      "(distributing, swords, is)\n",
      "(haw, haw, haw)\n",
      "(clop, clop, clop)\n",
      "(The, Castle, Aaagh)\n",
      "(Brave, brave, Concorde)\n",
      "(Ni, Ni, Ow)\n",
      "(unladen, swallow, flight)\n",
      "(Gorge, of, Eternal)\n",
      "(work, afoot, Anarcho)\n",
      "(mangled, brave, Sir)\n",
      "(Haw, haw, heh)\n",
      "(Pie, Iesu, domine)\n",
      "(vicious, Chicken, of)\n",
      "(ratios, five, ounce)\n",
      "(howl, boom, pound)\n",
      "(Ni, Ni, Ni)\n",
      "(Burn, Burn, Burn)\n",
      "(good, spanking, spanking)\n",
      "(Huy, Uuh, Aaah)\n",
      "(awhile, Midget, Crapper)\n",
      "(Nay, Nay, Come)\n",
      "(thou, mayest, blow)\n",
      "(aptly, named, Sir)\n",
      "(Olfin, Bedwere, of)\n",
      "(mumble, mumble, boom)\n",
      "(shrubbery, dramatic, chord)\n",
      "(Yup, Yup, Hm)\n",
      "(clop, boom, boom)\n",
      "(Oui, oui, Hurry)\n",
      "(uh, Launcelot, Galahad)\n",
      "(Black, Beast, lunged)\n",
      "(my, liege, Consult)\n",
      "(chickened, out, bravely)\n",
      "(clop, clop, Wait)\n",
      "(twang, chanting, Pie)\n",
      "(Burn, her, Burn)\n",
      "(relics, Brother, Maynard)\n",
      "(squeak, squeak, squeak)\n",
      "(Shh, Shh, Shh)\n",
      "(my, liege, trumpets)\n",
      "(crash, Hoo, singing)\n",
      "(mumble, mumble, boom)\n",
      "(varletesses, The, beds)\n",
      "(another, shrubbery, Ni)\n",
      "(Eternal, Peril, which)\n",
      "(Ni, Ohh, Ni)\n",
      "(Britons, Who, castle)\n",
      "(life, bathing, dressing)\n",
      "(Round, Table, The)\n",
      "(Thee, that, Thou)\n",
      "(near, fatal, wounding)\n",
      "(adversary, Tis, but)\n",
      "(Ninepence, clang, Bring)\n",
      "(la, vache, Quoi)\n",
      "(Silence, foul, temptress)\n",
      "(down, clap, clap)\n",
      "(Castle, of, uuggggggh)\n",
      "(ceremony, Be, quiet)\n",
      "(And, Saint, Attila)\n",
      "(squeak, squeak, squeak)\n",
      "(handsome, knight, Sir)\n",
      "(Grail, Heh, hee)\n",
      "(idea, smack, Guards)\n",
      "(knights, seemed, hopeless)\n",
      "(Burn, her, Burn)\n",
      "(mumble, boom, mumble)\n",
      "(Father, lad, Father)\n",
      "(Robin, My, liege)\n",
      "(clunk, bang, rewr)\n",
      "(an, anarcho, syndicalist)\n",
      "(Ni, Ni, Who)\n",
      "(routines, and, chorus)\n",
      "(cough, clang, cough)\n",
      "(and, Monsieur, Arthur)\n",
      "(Knights, of, Ni)\n",
      "(place, Aaaaugh, Aaaaugh)\n",
      "(Ni, Ni, Ni)\n",
      "(squeak, thump, squeak)\n",
      "(clap, clap, clap)\n",
      "(liege, Then, dub)\n",
      "(Yay, Yay, woosh)\n",
      "(twang, Wayy, twang)\n",
      "(thy, mercy, And)\n",
      "(Antioch, towards, thy)\n",
      "(ponds, distributing, swords)\n",
      "(ho, Heh, heh)\n",
      "(Hoa, crash, Hoo)\n",
      "(the, Round, Table)\n",
      "(thonk, Um, woosh)\n",
      "(dona, eis, requiem)\n",
      "(seek, warmer, climes)\n",
      "(music, thud, thud)\n",
      "(two, laden, swallows)\n",
      "(Spring, Mmm, nice)\n",
      "(clop, Ooh, said)\n",
      "(thy, foe, who)\n",
      "(scarper, singing, Brave)\n",
      "(Listen, lad, built)\n",
      "(say, ni, Agh)\n",
      "(Quickly, sir, singing)\n",
      "(dappy, English, k)\n",
      "(Hyy, Hya, Hiyya)\n",
      "(clop, clop, Ooh)\n",
      "(mumble, boom, mumble)\n",
      "(heh, heh, chanting)\n",
      "(slash, kills, Frank)\n",
      "(ways, Sir, Robin)\n",
      "(English, k, nnnnniggets)\n",
      "(there, clop, clop)\n",
      "(Ay, up, Thsss)\n",
      "(Excalibur, singing, stops)\n",
      "(Doctor, Winston, Practice)\n",
      "(Oh, Oooo, trumpets)\n",
      "(Arimathea, Course, What)\n",
      "(the, vicious, Chicken)\n",
      "(this, Aah, Hiyah)\n",
      "(squeak, squeak, squeak)\n",
      "(hee, Ha, hee)\n",
      "(Zoot, Prepare, a)\n",
      "(roar, Aagh, As)\n",
      "(Morning, Morning, Oooh)\n",
      "(dressing, undressing, making)\n",
      "(pond, Throw, her)\n",
      "(rrrr, rrrr, rrrr)\n",
      "(Burn, her, Burn)\n",
      "(large, wooden, clank)\n",
      "(newt, newt, got)\n",
      "(squeak, squeak, squeak)\n",
      "(bravest, knights, in)\n",
      "(been, mortally, wounded)\n",
      "(Dis, mount, Behold)\n",
      "(sweet, Concorde, um)\n",
      "(giggle, giggle, Ha)\n",
      "(Aaaaaah, Aaaaaaaaah, woosh)\n",
      "(zoop, boing, goodem)\n",
      "(trumpets, Hmm, boom)\n",
      "(chorus, scenes, With)\n",
      "(Arthur, and, Bedevere)\n",
      "(Britons, pause, seek)\n",
      "(longer, Sir, Galahad)\n",
      "(uuggggggh, Aauuggghhh, Aaauggh)\n",
      "(wood, alive, Knights)\n",
      "(domine, dona, eis)\n",
      "(Beast, lunged, forward)\n",
      "(alight, the, grail)\n",
      "(clang, squeak, squeak)\n",
      "(dona, eis, requiem)\n",
      "(Quite, pweeng, boom)\n",
      "(Arthur, the, quest)\n",
      "(witch, chanting, Pie)\n",
      "(boom, boom, angels)\n",
      "(giggle, outside, castle)\n",
      "(Burn, her, Burn)\n",
      "(Heh, hee, ha)\n",
      "(here, squeak, squeak)\n",
      "(Galahad, of, Camelot)\n",
      "(repressed, Bloody, peasant)\n",
      "(Iesu, domine, donaeis)\n",
      "(lobbest, thou, thy)\n",
      "(eis, requiem, Pie)\n",
      "(chanting, dona, eis)\n",
      "(squeak, Ooh, Come)\n",
      "(wooden, clank, twong)\n",
      "(cave, Tim, Follow)\n",
      "(trough, wiper, fart)\n",
      "(rewr, rewr, rewr)\n",
      "(singing, stops, blessing)\n",
      "(Charge, squeak, squeak)\n",
      "(thy, hand, grenade)\n",
      "(Aaagh, Our, quest)\n",
      "(rewr, rewr, rewr)\n",
      "(Oh, haw, haw)\n",
      "(Hiyah, Aah, Aaah)\n",
      "(in, dungeon, clap)\n",
      "(boom, mumble, mumble)\n",
      "(Farewell, sweet, Concorde)\n",
      "(ha, Charge, Hooray)\n",
      "(Robin, singing, Packing)\n",
      "(Hang, on, Hang)\n",
      "(Burn, her, Burn)\n",
      "(creak, whispering, un)\n",
      "(trumpets, The, Tale)\n",
      "(lambs, and, sloths)\n",
      "(crone, rewr, music)\n",
      "(rejoicing, Yay, Yay)\n",
      "(in, thy, mercy)\n",
      "(thank, Thee, Lord)\n",
      "(room, Alright, Hic)\n",
      "(and, impersonate, Clark)\n",
      "(Ooh, King, Arthur)\n",
      "(Galahad, the, Chaste)\n",
      "(Ni, Ni, Ni)\n",
      "(Burn, Burn, Who)\n",
      "(bells, Hah, Bloody)\n",
      "(Alright, Hic, Right)\n",
      "(be, praised, Almighty)\n",
      "(eight, wedding, guests)\n",
      "(requiem, Wayy, twang)\n",
      "(sloths, and, carp)\n",
      "(Iesu, domine, dona)\n",
      "(that, Saint, Ives)\n",
      "(dona, eis, requiem)\n",
      "(outside, castle, Morning)\n",
      "(anyway, Burn, Burn)\n",
      "(Guy, de, Loimbard)\n",
      "(Launcelot, Launcelot, police)\n",
      "(oooh, Heh, hee)\n",
      "(stops, Aaagh, Ooh)\n",
      "(You, mangy, scots)\n",
      "(Hooray, police, siren)\n",
      "(Pie, Iesu, domine)\n",
      "(me, Tim, Greetings)\n",
      "(English, k, niggets)\n",
      "(brave, Sir, Robin)\n",
      "(medieval, hall, tap)\n",
      "(Great, scott, Hm)\n",
      "(Armaments, Armaments, Chapter)\n",
      "(my, trusty, servant)\n",
      "(wicked, wicked, Zoot)\n",
      "(heeh, ooh, twang)\n",
      "(Camelot, Hurry, Sir)\n",
      "(Gallahad, the, Pure)\n",
      "(splash, Heh, heh)\n",
      "(thud, scrape, Umm)\n",
      "(lapin, lapin, de)\n",
      "(Anarcho, syndicalism, is)\n",
      "(Ohh, crash, mumble)\n",
      "(requiem, Heh, heh)\n",
      "(Robin, rode, north)\n",
      "(clop, clop, music)\n",
      "(Two, verses, Nine)\n",
      "(boom, pweeng, boom)\n",
      "(Ohh, Right, Charge)\n",
      "(Peng, and, Neee)\n",
      "(splash, Ho, ho)\n",
      "(Spring, and, Summer)\n",
      "(Ni, Shh, Shh)\n",
      "(ecky, ecky, ecky)\n",
      "(trusty, servant, Patsy)\n",
      "(Knights, Who, Til)\n",
      "(saved, Sir, Galahad)\n",
      "(thy, Holy, Hand)\n",
      "(Sir, Robin, rode)\n",
      "(shrubbery, Ni, Then)\n",
      "(Himself, has, guided)\n",
      "(gon, na, get)\n",
      "(un, cadeau, Oui)\n",
      "(the, Round, Table)\n",
      "(squeak, squeak, squeak)\n",
      "(Sir, Launcelot, Uh)\n",
      "(Grail, Seek, you)\n",
      "(mumble, boom, mumble)\n",
      "(sigh, Idiom, sir)\n",
      "(daughter, clap, clap)\n",
      "(Ecky, ecky, ecky)\n",
      "(spanking, the, oral)\n",
      "(k, niggets, and)\n",
      "(liege, trumpets, Camelot)\n",
      "(Forward, boom, boom)\n",
      "(Heh, hee, ha)\n",
      "(Round, Table, My)\n",
      "(Burn, her, Burn)\n",
      "(mumble, mumble, mumble)\n",
      "(Recently, Said, Ni)\n",
      "(Hurry, Sir, Launcelot)\n",
      "(Eternal, Peril, Oh)\n",
      "(scholar, It, Aramaic)\n",
      "(of, wherein, carved)\n",
      "(Burn, Burn, her)\n",
      "(sacred, quest, If)\n",
      "(this, sacred, castle)\n",
      "(Hello, Welcome, gentle)\n",
      "(Galahad, boom, wind)\n",
      "(radio, Launcelot, Launcelot)\n",
      "(fellows, outwit, you)\n",
      "(lads, Heh, Looks)\n",
      "(rabbit, dynamite, Would)\n",
      "(a, vicious, streak)\n",
      "(trumpets, Camelot, Camelot)\n",
      "(smelt, of, elderberries)\n",
      "(did, Aaaah, slash)\n",
      "(Run, along, Pull)\n",
      "(ooh, twang, chanting)\n",
      "(donaeis, requiem, Pie)\n",
      "(rrrr, drilllll, sawwwww)\n",
      "(haw, Haw, Haw)\n",
      "(shrubberies, Ni, cough)\n",
      "(Ni, Ni, Shh)\n",
      "(eat, Robin, minstrels)\n",
      "(blondes, and, brunettes)\n",
      "(some, watery, tart)\n",
      "(follow, Sir, Lancelot)\n",
      "(gentle, Sir, Knight)\n",
      "(his, bowels, unplugged)\n",
      "(Ho, ho, Woa)\n",
      "(Gawain, Ector, And)\n",
      "(vache, Quoi, Fetchez)\n",
      "(y, va, Bon)\n",
      "(Ector, And, Bors)\n",
      "(fwump, Concorde, Concorde)\n",
      "(creak, witch, witch)\n",
      "(the, Castle, Anthrax)\n",
      "(humble, servant, Sir)\n",
      "(drilllll, sawwwww, clunk)\n",
      "(boom, clap, clap)\n",
      "(name, handsome, knight)\n",
      "(eis, requiem, bonk)\n",
      "(late, dramatic, chord)\n",
      "(shimmering, samite, held)\n",
      "(her, Burn, Burn)\n",
      "(pansy, clang, Huyah)\n",
      "(carve, aaggggh, He)\n",
      "(music, clop, clop)\n",
      "(suspenseful, music, resumes)\n",
      "(mumble, boom, Ay)\n",
      "(scots, git, warning)\n",
      "(wicked, Zoot, Oh)\n",
      "(sequin, vests, and)\n",
      "(Ni, Firstly, you)\n",
      "(stops, Aaagh, King)\n",
      "(Sir, Robin, rode)\n",
      "(watery, tart, threw)\n",
      "(heh, chanting, dona)\n",
      "(hast, vouchsafed, to)\n",
      "(squeak, boom, boom)\n",
      "(clap, clap, Well)\n",
      "(heh, heh, ho)\n",
      "(tiny, brained, wipers)\n",
      "(eis, requiem, Heh)\n",
      "(her, Quiet, Quiet)\n",
      "(boom, roar, Shh)\n",
      "(dogma, which, perpetuates)\n",
      "(water, clank, scribble)\n",
      "(strand, of, creeper)\n",
      "(Iesu, domine, dona)\n",
      "(Aah, boom, pweeng)\n",
      "(Grail, The, Grail)\n",
      "(Yeaaah, Yeaah, Did)\n",
      "(squeak, squeak, squeak)\n",
      "(Ohh, Aaaaugh, And)\n",
      "(Uther, Pendragon, from)\n",
      "(Iesu, domine, dona)\n",
      "(swallows, flights, four)\n",
      "(Yes, Zoot, Prepare)\n",
      "(lad, Father, but)\n",
      "(Camelot, Camelot, It)\n",
      "(boom, mumble, mumble)\n",
      "(Shh, Shh, Then)\n",
      "(duck, Oooh, Exactly)\n",
      "(dead, clang, Bring)\n",
      "(Arthur, Arthur, King)\n",
      "(Ni, Ni, Agh)\n",
      "(Hmm, boom, Hm)\n",
      "(grovel, singing, stops)\n",
      "(Pie, Iesu, domine)\n",
      "(the, Round, Table)\n",
      "(giggle, giggle, giggle)\n",
      "(Sir, Knight, afraid)\n",
      "(the, Round, Table)\n",
      "(Divine, Providence, that)\n",
      "(Winter, gave, Spring)\n",
      "(Concorde, thwonk, Message)\n",
      "(ham, and, jam)\n",
      "(Knights, of, Camelot)\n",
      "(Charge, mayhem, Hey)\n",
      "(liege, Stand, by)\n",
      "(Ni, Shh, Shh)\n",
      "(Wayy, splash, Ho)\n",
      "(domine, donaeis, requiem)\n",
      "(dramatic, chord, roar)\n",
      "(Thy, Hah, clunk)\n",
      "(Charge, Charge, mayhem)\n",
      "(English, k, nnniggets)\n",
      "(Ni, and, Ni)\n",
      "(mount, Behold, the)\n",
      "(hidden, Tim, Quite)\n",
      "(trumpets, The, Tale)\n",
      "(wield, supreme, executive)\n",
      "(wings, forty, three)\n",
      "(chanting, Pie, Iesu)\n",
      "(Mud, Churches, Churches)\n",
      "(ni, Agh, Do)\n",
      "(Say, Ni, Aggh)\n",
      "(thud, thud, King)\n",
      "(howl, howl, boom)\n",
      "(Burn, her, Burn)\n",
      "(brave, Sir, Robin)\n",
      "(Tower, of, Swamp)\n",
      "(this, sacred, castle)\n",
      "(Camelot, Camelot, Camelot)\n",
      "(Ohh, Ohh, Burn)\n",
      "(whinny, whinny, They)\n",
      "(Pie, Iesu, domine)\n",
      "(twong, mooooooo, Jesus)\n",
      "(rabbit, stew, comin)\n",
      "(domine, witch, witch)\n",
      "(clop, clop, clop)\n",
      "(Listen, Herbert, Erbert)\n",
      "(kills, thud, scrape)\n",
      "(Right, whop, chops)\n",
      "(self, perpetuating, autocracy)\n",
      "(whop, chops, the)\n",
      "(her, Burn, Burn)\n",
      "(Lake, angels, sing)\n",
      "(King, Arthur, knights)\n",
      "(castle, of, Camelot)\n",
      "(Table, Who, castle)\n",
      "(attack, Ulk, thump)\n",
      "(Iesu, domine, dona)\n",
      "(Charge, Hooray, police)\n",
      "(Ni, Ni, Ni)\n",
      "(not, thud, clang)\n",
      "(Burn, her, Quiet)\n",
      "(with, witches, Burn)\n",
      "(eis, requiem, witch)\n",
      "(ways, Brave, brave)\n",
      "(the, sacred, relics)\n",
      "(Un, cadeau, What)\n",
      "(Thsss, boom, Ayy)\n",
      "(on, Bors, Chop)\n",
      "(Father, but, Father)\n",
      "(pond, The, pond)\n",
      "(Thppppt, taunting, Fiends)\n",
      "(Ni, Ni, Shh)\n",
      "(the, strongest, castle)\n",
      "(and, Aaah, hiyaah)\n",
      "(howl, boom, howl)\n",
      "(Hello, Hello, Zoot)\n",
      "(Um, woosh, Oooh)\n",
      "(brave, Sir, Robin)\n",
      "(tale, The, Knights)\n",
      "(Hold, it, Hold)\n",
      "(squeak, squeak, squeak)\n",
      "(gallantly, he, chickened)\n",
      "(moistened, bint, had)\n",
      "(Christ, thud, Allo)\n",
      "(path, Ni, Shh)\n",
      "(approacheth, the, Bridge)\n",
      "(clack, Picture, for)\n",
      "(Grenade, of, Antioch)\n",
      "(Hee, hee, hee)\n",
      "(Ha, haw, haw)\n",
      "(Shh, Shh, Shh)\n",
      "(Dragon, of, Angnor)\n",
      "(Ow, Ow, Ow)\n",
      "(boom, Thsss, boom)\n",
      "(ha, Huy, Uuh)\n",
      "(Who, Til, Recently)\n",
      "(uh, Camelot, Hurry)\n",
      "(wounded, in, vain)\n",
      "(cadeau, Oui, oui)\n",
      "(haw, haw, Ha)\n",
      "(Ni, Ni, Ni)\n",
      "(Brother, Maynard, You)\n",
      "(words, Ni, Peng)\n",
      "(we, sequin, vests)\n",
      "(quack, quack, quack)\n",
      "(individually, clop, clop)\n",
      "(rewr, rewr, rewr)\n",
      "(Aaaaugh, Aaaaugh, Stop)\n",
      "(time, Ages, Umhm)\n",
      "(Nu, No, ni)\n",
      "(Come, Patsy, None)\n",
      "(bad, naughty, Zoot)\n",
      "(Arthur, discovers, a)\n",
      "(knight, Sir, Galahad)\n",
      "(Augh, Ohh, Do)\n",
      "(clop, whinny, whinny)\n",
      "(dona, eis, requiem)\n",
      "(of, Arimathea, Course)\n",
      "(Launcelot, Launcelot, Launcelot)\n",
      "(Round, Table, Our)\n",
      "(Hm, Hmm, boom)\n",
      "(your, humble, servant)\n",
      "(Allo, dappy, English)\n",
      "(Aaagh, clang, and)\n",
      "(bold, Sir, Robin)\n",
      "(Supposing, two, swallows)\n",
      "(sir, Three, angels)\n",
      "(Cider, Uh, gravy)\n",
      "(clank, twong, Run)\n",
      "(angels, sing, Arthur)\n",
      "(dorsal, guiding, feathers)\n",
      "(Aaaugh, dramatic, chord)\n",
      "(pweeng, boom, clap)\n",
      "(domine, bonk, dona)\n",
      "(Uh, gravy, Cherries)\n",
      "(Hmm, mumble, mumble)\n",
      "(it, Ohh, Aaaaugh)\n",
      "(The, pond, Throw)\n",
      "(squeak, clllank, What)\n",
      "(Shh, Shh, Shh)\n",
      "(warmer, climes, in)\n",
      "(naughty, evil, Zoot)\n",
      "(squeak, squeak, squeak)\n",
      "(bonk, Pie, Iesu)\n",
      "(squeak, squeak, squeak)\n",
      "(traveller, five, Three)\n",
      "(Aaaugh, Aaaugh, Augh)\n",
      "(away, Thppppt, taunting)\n",
      "(clang, Hiyaah, clang)\n",
      "(purest, shimmering, samite)\n",
      "(scribble, scribble, scribble)\n",
      "(mumble, mumble, boom)\n",
      "(Bedevere, Knight, of)\n",
      "(liege, Consult, the)\n",
      "(clap, clap, clap)\n",
      "(idea, Behold, angels)\n",
      "(Roger, the, Shrubber)\n",
      "(Aauuggghhh, Aaauggh, Do)\n",
      "(haaa, ha, Walk)\n",
      "(Agh, Ni, Ni)\n",
      "(Meanwhile, King, Arthur)\n",
      "(off, chanting, Pie)\n",
      "(Grail, Our, quest)\n",
      "(music, clop, clop)\n",
      "(Hallo, pause, Hallo)\n",
      "(hee, heh, Stop)\n",
      "(Woa, wayy, twang)\n",
      "(twin, sister, Dingo)\n",
      "(the, Shrubber, arrange)\n",
      "(Burn, her, Burn)\n",
      "(Pie, Iesu, domine)\n",
      "(boom, mumble, mumble)\n",
      "(clop, clop, Whoa)\n",
      "(Ni, Ni, and)\n",
      "(right, howl, clop)\n",
      "(splat, laughing, Agh)\n",
      "(clop, clop, clop)\n",
      "(crash, mumble, mumble)\n",
      "(Round, Table, clop)\n",
      "(carry, Excalibur, singing)\n",
      "(crash, clang, squeak)\n",
      "(Sir, Galahad, boom)\n",
      "(of, Eternal, Peril)\n",
      "(Tall, Tower, of)\n",
      "(dead, clang, Bring)\n",
      "(Ahh, Summer, changed)\n",
      "(Grenade, of, Antioch)\n",
      "(handsome, knights, Nay)\n",
      "(mystic, runes, upon)\n",
      "(you, Splendid, Aah)\n",
      "(you, pansy, clang)\n",
      "(brave, Sir, Robin)\n",
      "(unarmed, Who, leaps)\n",
      "(Round, Table, You)\n",
      "(Right, clop, clop)\n",
      "(special, bi, weekly)\n",
      "(singing, howl, boom)\n",
      "(Lead, Lead, duck)\n",
      "(eis, requiem, Pie)\n",
      "(thud, thud, thud)\n",
      "(of, Eternal, Peril)\n",
      "(clop, clop, clop)\n",
      "(brave, Sir, Robin)\n",
      "(Zoot, identical, twin)\n",
      "(questions, Sir, Robin)\n",
      "(sight, shall, snuff)\n",
      "(Iesu, domine, Wayy)\n",
      "(Heh, hee, hee)\n",
      "(boing, goodem, zoo)\n",
      "(Brother, Maynard, carries)\n",
      "(With, footwork, impeccable)\n",
      "(daring, and, heroic)\n",
      "(hiyaah, etc, chops)\n",
      "(praised, Almighty, God)\n",
      "(it, clop, clop)\n",
      "(floats, It, floats)\n",
      "(you, marrying, Princess)\n",
      "(Iesu, domine, witch)\n",
      "(hee, hee, ha)\n",
      "(mumble, mumble, mumble)\n",
      "(nice, castle, Camelot)\n",
      "(her, Burn, Burn)\n",
      "(Hold, it, Hold)\n",
      "(Sir, Bedevere, Knight)\n",
      "(done, Aaaugh, Aaaugh)\n",
      "(the, dorsal, guiding)\n",
      "(Enchanter, Greetings, King)\n",
      "(Iiiives, Iiiiives, Oooohoohohooo)\n",
      "(Ni, Ni, Are)\n",
      "(thud, Ah, Ohh)\n",
      "(Hah, clunk, Come)\n",
      "(Haw, Haw, haw)\n",
      "(Burn, her, Burn)\n",
      "(You, tit, soiled)\n",
      "(Knights, of, Ni)\n",
      "(Thpppppt, Thppt, Thppt)\n",
      "(clop, rewr, rewr)\n",
      "(Hah, Bloody, weather)\n",
      "(Aah, Hiyah, Aah)\n",
      "(Oooh, splat, crying)\n",
      "(Sir, Launcelot, sir)\n",
      "(Hand, Grenade, of)\n",
      "(roar, Shh, Shh)\n",
      "(bleeder, One, rabbit)\n",
      "(shalt, thou, count)\n",
      "(mangy, scots, git)\n",
      "(Shrubber, arrange, design)\n",
      "(Launcelot, Launcelot, angels)\n",
      "(angels, sing, Arthur)\n",
      "(afoot, Anarcho, syndicalism)\n",
      "(va, Bon, magne)\n",
      "(Churches, Lead, Lead)\n",
      "(dramatic, chord, clunk)\n",
      "(mumble, mumble, bells)\n",
      "(dead, rewr, clang)\n",
      "(shrubberies, Yes, Shrubberies)\n",
      "(Ni, Ni, Ni)\n",
      "(nnnnniggets, Thpppppt, Thppt)\n",
      "(holy, wedlock, Unfortunately)\n",
      "(Launcelot, Launcelot, Launcelot)\n",
      "(Til, Recently, Said)\n",
      "(hee, Hee, hee)\n",
      "(dead, clang, Bring)\n",
      "(goodem, zoo, owli)\n",
      "(Holy, Hand, Grenade)\n",
      "(Bloody, peasant, Oh)\n",
      "(howl, clop, clop)\n",
      "(Mercea, The, coconut)\n",
      "(squeak, squeak, squeak)\n",
      "(Tim, Follow, But)\n",
      "(faced, bugger, folk)\n",
      "(Morning, Oooh, ptoo)\n",
      "(Shh, Shh, We)\n",
      "(Aaagh, Ooh, King)\n",
      "(Saint, Attila, raised)\n",
      "(Arthur, music, Ooh)\n",
      "(Aaagh, King, Arthur)\n",
      "(spanking, spanking, You)\n",
      "(impeccable, We, dine)\n",
      "(The, Castle, Anthrax)\n",
      "(clop, clop, clop)\n",
      "(Umm, clop, clop)\n",
      "(thou, thy, Holy)\n",
      "(Aaaaaaaah, chops, the)\n",
      "(boom, boom, squeak)\n",
      "(horrendous, Black, Beast)\n",
      "(Welcome, gentle, Sir)\n",
      "(Sir, Robin, singing)\n",
      "(Holy, Grail, returns)\n",
      "(Robin, minstrels, high)\n",
      "(Ni, Ni, Ni)\n",
      "(Bedevere, Explain, again)\n",
      "(smack, Guards, Make)\n",
      "(Autumn, Aah, snap)\n",
      "(Aaaah, slash, kills)\n",
      "(woosh, kills, thud)\n",
      "(wayy, twang, splash)\n",
      "(impersonate, Clark, Gable)\n",
      "(Arthur, music, clop)\n",
      "(Castle, Anthrax, Yes)\n",
      "(wicked, bad, naughty)\n",
      "(clop, clop, boom)\n",
      "(wom, Neee, wom)\n",
      "(taunting, Fiends, tear)\n",
      "(Castle, Aaagh, Our)\n",
      "(Saint, Ives, Oh)\n",
      "(stops, blessing, blessing)\n",
      "(knights, Nay, Nay)\n",
      "(Robin, rode, forth)\n",
      "(music, clop, clop)\n",
      "(Quiet, Quiet, Quiet)\n",
      "(Launcelot, Launcelot, Launcelot)\n",
      "(guiding, feathers, Well)\n",
      "(Brave, brave, brave)\n",
      "(Shh, Shh, We)\n",
      "(mayest, blow, thine)\n",
      "(dona, eis, requiem)\n",
      "(uh, Launcelot, Galahad)\n",
      "(duck, quack, quack)\n",
      "(never, chanting, Pie)\n",
      "(Away, away, varletesses)\n",
      "(Swamp, Castle, At)\n",
      "(Aah, Aaah, Hyy)\n",
      "(Ni, Ni, Ni)\n",
      "(blessing, blessing, from)\n",
      "(Greetings, King, Arthur)\n",
      "(Right, Yeaaah, Yeaah)\n",
      "(clunk, crash, clang)\n",
      "(resumes, Launcelot, Launcelot)\n",
      "(boom, angels, sing)\n",
      "(Shh, Shh, Shh)\n",
      "(bois, Quoi, Un)\n",
      "(Zoot, Just, Zoot)\n",
      "(scales, Ohh, Ohh)\n",
      "(servant, Patsy, We)\n",
      "(Britons, My, liege)\n",
      "(that, Brother, Maynard)\n",
      "(hoo, Ohh, ha)\n",
      "(Launcelot, Galahad, and)\n",
      "(Ages, Umhm, uh)\n",
      "(influential, knight, and)\n",
      "(Launcelot, and, Galahad)\n",
      "(Aaah, Hyy, Hya)\n",
      "(the, Grail, individually)\n",
      "(haw, haw, Haw)\n",
      "(brained, wipers, of)\n",
      "(Sir, Robin, turned)\n",
      "(bang, rewr, squeak)\n",
      "(music, resumes, Launcelot)\n",
      "(the, Enchanter, Greetings)\n",
      "(Tim, Quite, pweeng)\n",
      "(Hand, Grenade, chanting)\n",
      "(twong, baaaa, Jesus)\n",
      "(niggets, and, Monsieur)\n",
      "(Tim, Greetings, Tim)\n",
      "(Tower, you, creep)\n",
      "(her, spanking, spanking)\n",
      "(Splendid, Aah, boom)\n",
      "(boom, Hm, Hmm)\n",
      "(passed, shivering, Winter)\n",
      "(chord, roar, It)\n",
      "(Ewing, accompanied, by)\n",
      "(Wayy, twang, whispering)\n",
      "(Hiyya, Hey, Hiyya)\n",
      "(Ni, Ow, Ow)\n",
      "(Look, squeak, Aaaugh)\n",
      "(stew, comin, right)\n",
      "(to, handsome, knights)\n",
      "(Sir, Robin, ran)\n",
      "(mumble, mumble, boom)\n",
      "(Ni, Ni, Ni)\n",
      "(Old, crone, rewr)\n",
      "(King, Arthur, sir)\n",
      "(la, vache, mooo)\n",
      "(Nine, to, Twenty)\n",
      "(Ni, cough, Nu)\n",
      "(domine, dona, eis)\n",
      "(castle, Morning, Morning)\n",
      "(stops, stab, Aagh)\n",
      "(haw, heh, clack)\n",
      "(eccentric, performance, clop)\n",
      "(Run, awaaaaay, roar)\n",
      "(domine, dona, eisrequiem)\n",
      "(dangerous, Sir, Launcelot)\n",
      "(Shh, Shh, Shh)\n",
      "(no, Charge, squeak)\n",
      "(which, Arthur, discovers)\n",
      "(into, Autumn, Aah)\n",
      "(some, farcical, aquatic)\n",
      "(curtains, lad, All)\n",
      "(shivering, Winter, changed)\n",
      "(syndicalist, commune, We)\n",
      "(mumble, mumble, mumble)\n",
      "(him, Brother, Maynard)\n",
      "(utterly, disheartened, King)\n",
      "(Launcelot, Launcelot, Launcelot)\n",
      "(valiant, knight, shall)\n",
      "(path, path, Ni)\n",
      "(then, whop, chops)\n",
      "(rocks, Cider, Uh)\n",
      "(clop, clop, You)\n",
      "(Ow, Agh, We)\n",
      "(etc, Aaaaaah, Aaaaaaaaah)\n",
      "(domine, Wayy, splash)\n",
      "(Doctor, Piglet, Doctor)\n",
      "(Quite, indefatigable, Between)\n",
      "(Ow, Ow, Agh)\n",
      "(boom, angels, singing)\n",
      "(Grail, boom, singing)\n",
      "(lapin, de, bois)\n",
      "(minstrels, singing, Bravely)\n",
      "(the, Tall, Tower)\n",
      "(flint, or, tinder)\n",
      "(vicious, streak, a)\n",
      "(Shh, Knights, bid)\n",
      "(Hm, Hmm, mumble)\n",
      "(Princess, Lucky, so)\n",
      "(First, shalt, thou)\n",
      "(kills, Frank, trumpets)\n",
      "(servant, Sir, Launcelot)\n",
      "(Ni, Ni, No)\n",
      "(Burn, her, Burn)\n",
      "(singing, Bravely, bold)\n",
      "(of, Armaments, Armaments)\n",
      "(Four, shalt, thou)\n",
      "(the, Round, Table)\n",
      "(Dramatically, sir, Dramatically)\n",
      "(quack, quack, We)\n",
      "(the, Round, Table)\n",
      "(dead, Prince, Oooh)\n",
      "(stops, intermission, suspenseful)\n",
      "(wonderful, escape, Excuse)\n",
      "(water, Bread, Apples)\n",
      "(clop, clop, Now)\n",
      "(Quiet, Quiet, Quiet)\n",
      "(domine, dona, eis)\n",
      "(today, Heee, Hoa)\n",
      "(spank, her, spanking)\n",
      "(Arthur, The, ferocity)\n",
      "(Knights, of, Ni)\n",
      "(Ni, Ni, Ni)\n",
      "(Knights, Knights, Who)\n",
      "(Launcelot, Launcelot, Launcelot)\n",
      "(Quoi, Fetchez, la)\n",
      "(food, trough, wiper)\n",
      "(largest, scales, Ohh)\n",
      "(signifying, by, Divine)\n",
      "(stops, Aaagh, clang)\n",
      "(in, Castle, Anthrax)\n",
      "(yes, Saint, Iiiives)\n",
      "(what, Ni, Ni)\n",
      "(Uuh, Aaah, Ha)\n",
      "(the, curtains, lad)\n",
      "(mumble, mumble, boom)\n",
      "(Shh, Ni, Ni)\n",
      "(angels, sing, boom)\n",
      "(perpetuating, autocracy, in)\n",
      "(Castle, Anthrax, The)\n",
      "(Oh, wicked, wicked)\n",
      "(Ni, Ni, Ni)\n",
      "(Brave, Sir, Robin)\n",
      "(to, outdated, imperialist)\n",
      "(aside, worthy, adversary)\n",
      "(Grail, Meanwhile, King)\n",
      "(clop, clop, clop)\n",
      "(woosh, Oooh, afraid)\n",
      "(the, bravest, knights)\n",
      "(Bon, magne, Over)\n",
      "(binding, sense, clap)\n",
      "(Holy, Grail, boom)\n",
      "(French, persons, taunting)\n",
      "(Said, Ni, Firstly)\n",
      "(Halt, horn, Hallo)\n",
      "(and, giggle, giggle)\n",
      "(Aauuuves, in, Cornwall)\n",
      "(Follow, But, Follow)\n",
      "(held, aloft, Excalibur)\n",
      "(Bedevere, my, liege)\n",
      "(supports, whop, clunk)\n",
      "(clop, clop, clop)\n",
      "(cough, cough, clang)\n",
      "(my, liege, Stand)\n",
      "(the, van, Clear)\n",
      "(clang, Huyah, clang)\n",
      "(brave, Sir, Robin)\n",
      "(model, Shh, Knights)\n",
      "(its, wings, forty)\n",
      "(Sir, Bedevere, Explain)\n",
      "(sir, Dramatically, singing)\n",
      "(by, Divine, Providence)\n",
      "(Burn, her, Burn)\n",
      "(squeak, Aaaugh, dramatic)\n",
      "(Robin, never, chanting)\n",
      "(Ni, Ni, Ni)\n",
      "(thud, King, Arthur)\n",
      "(of, Olfin, Bedwere)\n",
      "(ecky, ecky, pikang)\n",
      "(Robin, of, Camelot)\n",
      "(Neee, wom, Neee)\n",
      "(of, Antioch, Tis)\n",
      "(mumble, mumble, boom)\n",
      "(witch, witch, Burn)\n",
      "(ruffians, can, ni)\n",
      "(Camelot, in, medieval)\n",
      "(sacred, castle, No)\n",
      "(blow, thine, enemies)\n",
      "(Book, of, Armaments)\n",
      "(Clark, Gable, It)\n",
      "(Aaaaugh, Aaaugh, etc)\n",
      "(Holy, Grail, Brave)\n",
      "(wherein, carved, in)\n",
      "(Neee, wom, Those)\n",
      "(Ahh, squeak, Ooh)\n",
      "(lad, the, strongest)\n",
      "(medieval, hall, singing)\n",
      "(clap, clap, in)\n",
      "(and, influential, knight)\n",
      "(thou, shalt, count)\n",
      "(boom, mumble, mumble)\n",
      "(stops, Ni, Ni)\n",
      "(eis, requiem, bonk)\n",
      "(sacred, words, Ni)\n",
      "(anyway, clop, clop)\n",
      "(kingdom, of, Mercea)\n",
      "(grail, shaped, beacon)\n",
      "(pweeng, boom, boom)\n",
      "(Sir, Launcelot, Hurry)\n",
      "(Brother, Maynard, Bring)\n",
      "(twenty, four, Beyond)\n",
      "(verses, Nine, to)\n",
      "(strongest, castle, in)\n",
      "(ecky, pikang, zoop)\n",
      "(bowels, unplugged, And)\n",
      "(mumble, mumble, mumble)\n",
      "(mumble, mumble, mumble)\n",
      "(auuuuuuuugh, Hee, hee)\n",
      "(eight, Action, Defeat)\n",
      "(woods, Ni, Ni)\n",
      "(minstrels, high, pitched)\n",
      "(him, roar, Aagh)\n",
      "(k, nnniggets, Thpppt)\n",
      "(rewr, clang, Bring)\n",
      "(chanting, Pie, Iesu)\n",
      "(Ni, Agh, Ni)\n",
      "(brave, Sir, Knight)\n",
      "(dead, clang, Bring)\n",
      "(Ni, Aggh, No)\n",
      "(Oooo, trumpets, The)\n",
      "(taunting, Dappy, Today)\n",
      "(dungeon, clap, clap)\n",
      "(Hold, it, Hold)\n",
      "(Hold, it, Hold)\n",
      "(Launcelot, of, Camelot)\n",
      "(rewr, rewr, Old)\n",
      "(Greetings, Tim, the)\n",
      "(requiem, bonk, Pie)\n",
      "(Ni, and, Ow)\n",
      "(Arthur, music, clop)\n",
      "(Launcelot, Hurry, Shut)\n",
      "(Concorde, Speak, to)\n",
      "(particular, sigh, Idiom)\n",
      "(Table, My, liege)\n",
      "(Battle, of, Badon)\n",
      "(in, mystic, runes)\n",
      "(Three, angels, sing)\n",
      "(Nay, Come, Come)\n",
      "(Providence, that, Arthur)\n",
      "(squeak, Aaaaugh, Aaaugh)\n",
      "(thud, Allo, dappy)\n",
      "(Winston, Practice, your)\n",
      "(Sir, Knight, Welcome)\n",
      "(requiem, Pie, Iesu)\n",
      "(Bread, Apples, Uh)\n",
      "(ni, Nu, No)\n",
      "(witch, bonk, witch)\n",
      "(Armaments, Chapter, Two)\n",
      "(bonk, witch, witch)\n",
      "(Hallo, Allo, Who)\n",
      "(vache, mooo, If)\n",
      "(clop, Halt, Who)\n",
      "(Castle, Anthrax, we)\n",
      "(Burn, Burn, them)\n",
      "(spanking, spanking, spanking)\n",
      "(bonk, dona, eis)\n",
      "(Pie, Iesu, domine)\n",
      "(zoo, owli, zhiv)\n",
      "(squeak, squeak, creak)\n",
      "(owli, zhiv, Ni)\n",
      "(clop, Halt, horn)\n",
      "(clap, clap, For)\n",
      "(Silly, little, bleeder)\n",
      "(dona, eis, requiem)\n",
      "(Lancelot, the, Brave)\n",
      "(footwork, impeccable, We)\n",
      "(Arthur, having, consulted)\n",
      "(clop, clop, clop)\n",
      "(Idiom, sir, Idiom)\n",
      "(dead, clang, Bring)\n",
      "(Ahh, Right, Remove)\n",
      "(the, purest, shimmering)\n",
      "(requiem, witch, witch)\n",
      "(Ni, Ni, Ni)\n",
      "(Burn, her, Burn)\n",
      "(Pie, Iesu, domine)\n",
      "(most, twong, baaaa)\n",
      "(shrubbery, dramatic, chord)\n",
      "(dappy, English, k)\n",
      "(anarcho, syndicalist, commune)\n",
      "(witch, witch, chanting)\n",
      "(dona, eisrequiem, How)\n",
      "(Thpppt, taunting, We)\n",
      "(singing, Brave, Sir)\n",
      "(horn, Hallo, pause)\n",
      "(sixteen, and, nineteen)\n",
      "(quests, we, sequin)\n",
      "(Holy, Hand, Grenade)\n",
      "(clop, clop, Halt)\n",
      "(bonk, Pie, Iesu)\n",
      "(sawwwww, clunk, crash)\n",
      "(chord, what, Ni)\n",
      "(Hoo, hoo, Ohh)\n",
      "(intermission, suspenseful, music)\n",
      "(chord, clunk, Jesus)\n",
      "(witches, Shh, Wood)\n",
      "(thump, squeak, boom)\n",
      "(sponge, Sir, Robin)\n",
      "(naughty, Zoot, She)\n",
      "(singing, Bravely, ran)\n",
      "(clop, clop, whinny)\n",
      "(rewr, rewr, rewr)\n",
      "(Sir, Robin, brave)\n",
      "(clap, in, medieval)\n",
      "(mumble, mumble, mumble)\n",
      "(to, carve, aaggggh)\n",
      "(clop, clop, clop)\n",
      "(Iiiiives, Oooohoohohooo, No)\n",
      "(identical, twin, sister)\n",
      "(Sir, Knight, pause)\n",
      "(Mmm, nice, Spring)\n",
      "(zhiv, Ni, Therefore)\n",
      "(heh, heeh, ooh)\n",
      "(Brave, Sir, Robin)\n",
      "(mud, Halt, Who)\n",
      "(wind, howl, howl)\n",
      "(clop, clop, clop)\n",
      "(lonely, life, bathing)\n",
      "(that, Thou, hast)\n",
      "(wetting, types, burst)\n",
      "(clunk, creak, witch)\n",
      "(clap, clap, clap)\n",
      "(clang, Aaaaaaaah, chops)\n",
      "(singing, stops, ethereal)\n",
      "(coconuts, migrate, Not)\n",
      "(boom, mumble, mumble)\n",
      "(dona, eis, requiem)\n",
      "(spanking, spanking, There)\n",
      "(Hang, on, Hang)\n",
      "(lose, Gawain, Ector)\n",
      "(pikang, zoop, boing)\n",
      "(Grail, individually, clop)\n",
      "(lobbed, a, scimitar)\n",
      "(Prince, Oooh, The)\n",
      "(na, get, lad)\n",
      "(Round, Table, am)\n",
      "(and, giggle, giggle)\n",
      "(Churches, Churches, Lead)\n",
      "(off, sniff, mumble)\n",
      "(clop, clop, clop)\n",
      "(squeak, rrrr, rrrr)\n",
      "(soiled, my, armor)\n",
      "(Beast, of, Aaauugh)\n",
      "(whispering, un, lapin)\n",
      "(imperialist, dogma, which)\n",
      "(test, Knights, Knights)\n",
      "(Arthur, knights, but)\n",
      "(Chapter, Two, verses)\n",
      "(Burn, her, Burn)\n",
      "(clap, clap, And)\n",
      "(aunties, you, cheesy)\n",
      "(daft, me, havin)\n",
      "(Huyah, clang, Hiyaah)\n",
      "(angels, singing, howl)\n",
      "(chanting, Pie, Iesu)\n",
      "(Britons, your, Knights)\n",
      "(wicked, bad, naughty)\n",
      "(domine, bonk, dona)\n",
      "(mumble, mumble, boom)\n",
      "(ha, Heh, hee)\n",
      "(sing, Arthur, Arthur)\n",
      "(Midget, Crapper, and)\n",
      "(aloft, Excalibur, from)\n",
      "(land, Listen, Herbert)\n",
      "(boom, mumble, mumble)\n",
      "(awaaaaay, roar, Keep)\n",
      "(samite, held, aloft)\n",
      "(Arthur, music, thud)\n",
      "(lunged, forward, escape)\n",
      "(advancing, behaviour, wave)\n",
      "(Robin, Yes, Brave)\n",
      "(sacred, castle, to)\n",
      "(favorite, minstrels, singing)\n",
      "(Just, uuggggggh, Aauuggghhh)\n",
      "(squeak, squeak, clllank)\n",
      "(mumble, mumble, boom)\n",
      "(and, Ni, Ohh)\n",
      "(shrubberies, Ni, No)\n",
      "(boom, howl, boom)\n",
      "(whop, chops, the)\n",
      "(giggle, giggle, outside)\n",
      "(gone, illegitimate, faced)\n",
      "(Iesu, domine, bonk)\n",
      "(un, lapin, lapin)\n",
      "(Shut, uuup, singing)\n",
      "(stab, Aagh, Oh)\n",
      "(disheartened, King, Arthur)\n",
      "(mortally, wounded, in)\n",
      "(Sir, Robin, Shut)\n",
      "(lad, But, Father)\n",
      "(Chicken, of, Bristol)\n",
      "(Consult, the, Book)\n",
      "(kingdom, lad, But)\n",
      "(brave, Sir, Launcelot)\n",
      "(is, Silence, foul)\n",
      "(Wayy, twang, Wayy)\n",
      "(legendary, Black, Beast)\n",
      "(dead, clang, Bring)\n",
      "(Ni, Ni, Ni)\n",
      "(Say, Ecky, ecky)\n",
      "(sell, shrubberies, Ni)\n",
      "(Christ, Christ, thud)\n",
      "(Holy, Hand, Grenade)\n",
      "(scrape, Umm, clop)\n",
      "(nibble, your, bum)\n",
      "(clank, scribble, scribble)\n"
     ]
    }
   ],
   "source": [
    "for gram in grailGrams: \n",
    "    if sum([word.prob for word in gram]) < -40: \n",
    "        print(gram)"
   ]
  },
  {
   "cell_type": "markdown",
   "metadata": {
    "slideshow": {
     "slide_type": "slide"
    }
   },
   "source": [
    "# Word Embeddings (Word Vectors)\n",
    "\n",
    "Word embeddings (word vectors) are numeric representations of words, usually generated via dimensionality reduction on a word cooccurrence matrix for a large corpus. The vectors SpaCy uses are the [GloVe](http://nlp.stanford.edu/projects/glove/) vectors, Stanford's Global Vectors for Word Representation. These vectors can be used to calculate semantic similarity between words and documents."
   ]
  },
  {
   "cell_type": "markdown",
   "metadata": {
    "slideshow": {
     "slide_type": "fragment"
    }
   },
   "source": [
    "<h2>This example of course relies on a fundamental linguistic assumption: that words appearing in similar contexts are related to each other semantically. This is called the distributional hypothesis.</h2>"
   ]
  },
  {
   "cell_type": "markdown",
   "metadata": {
    "slideshow": {
     "slide_type": "subslide"
    }
   },
   "source": [
    "<img src=\"./media/word2vec-one-hot.png\">"
   ]
  },
  {
   "cell_type": "markdown",
   "metadata": {
    "slideshow": {
     "slide_type": "subslide"
    }
   },
   "source": [
    "<img src=\"./media/word2vec-distributed-representation.png\">"
   ]
  },
  {
   "cell_type": "markdown",
   "metadata": {
    "slideshow": {
     "slide_type": "subslide"
    }
   },
   "source": [
    "Suppose we are building a language model. Suppose we have seen the sentences  \n",
    "* The mathematician ran to the store.\n",
    "* The physicist ran to the store.\n",
    "* The mathematician solved the open problem."
   ]
  },
  {
   "cell_type": "markdown",
   "metadata": {
    "slideshow": {
     "slide_type": "fragment"
    }
   },
   "source": [
    "How could we actually encode semantic similarity in words? "
   ]
  },
  {
   "cell_type": "markdown",
   "metadata": {
    "slideshow": {
     "slide_type": "fragment"
    }
   },
   "source": [
    "$$q_\\text{mathematician} = \\left[ \\overbrace{2.3}^\\text{can run},\n",
    "\\overbrace{9.4}^\\text{likes coffee}, \\overbrace{-5.5}^\\text{majored in Physics}, \\dots \\right]$$"
   ]
  },
  {
   "cell_type": "markdown",
   "metadata": {
    "slideshow": {
     "slide_type": "fragment"
    }
   },
   "source": [
    "$$q_\\text{physicist} = \\left[ \\overbrace{2.5}^\\text{can run},\n",
    "\\overbrace{9.1}^\\text{likes coffee}, \\overbrace{6.4}^\\text{majored in Physics}, \\dots \\right]$$"
   ]
  },
  {
   "cell_type": "markdown",
   "metadata": {
    "slideshow": {
     "slide_type": "subslide"
    }
   },
   "source": [
    "$$\\text{Similarity}(\\text{physicist}, \\text{mathematician}) = q_\\text{physicist} \\cdot q_\\text{mathematician}$$"
   ]
  },
  {
   "cell_type": "markdown",
   "metadata": {
    "slideshow": {
     "slide_type": "fragment"
    }
   },
   "source": [
    "$$\\text{Similarity}(\\text{physicist}, \\text{mathematician}) = \\frac{q_\\text{physicist} \\cdot q_\\text{mathematician}}\n",
    "{\\| q_\\text{\\physicist} \\| \\| q_\\text{mathematician} \\|} = \\cos (\\phi)$$"
   ]
  },
  {
   "cell_type": "code",
   "execution_count": 110,
   "metadata": {
    "collapsed": true,
    "slideshow": {
     "slide_type": "subslide"
    }
   },
   "outputs": [],
   "source": [
    "coconut, africanSwallow, europeanSwallow, horse = nlp('coconut'), nlp('African Swallow'), nlp('European Swallow'), nlp('horse')"
   ]
  },
  {
   "cell_type": "code",
   "execution_count": 111,
   "metadata": {
    "slideshow": {
     "slide_type": "fragment"
    }
   },
   "outputs": [
    {
     "data": {
      "text/plain": [
       "0.15660883152130853"
      ]
     },
     "execution_count": 111,
     "metadata": {},
     "output_type": "execute_result"
    }
   ],
   "source": [
    "coconut.similarity(horse)"
   ]
  },
  {
   "cell_type": "code",
   "execution_count": 112,
   "metadata": {
    "slideshow": {
     "slide_type": "fragment"
    }
   },
   "outputs": [
    {
     "data": {
      "text/plain": [
       "0.26844617497630374"
      ]
     },
     "execution_count": 112,
     "metadata": {},
     "output_type": "execute_result"
    }
   ],
   "source": [
    "africanSwallow.similarity(horse)"
   ]
  },
  {
   "cell_type": "code",
   "execution_count": 113,
   "metadata": {
    "slideshow": {
     "slide_type": "fragment"
    }
   },
   "outputs": [
    {
     "data": {
      "text/plain": [
       "0.99999999024565156"
      ]
     },
     "execution_count": 113,
     "metadata": {},
     "output_type": "execute_result"
    }
   ],
   "source": [
    "africanSwallow.similarity(europeanSwallow)"
   ]
  },
  {
   "cell_type": "markdown",
   "metadata": {
    "slideshow": {
     "slide_type": "slide"
    }
   },
   "source": [
    "<h2>Let's look at vectors for _Pride and Prejudice_. First, let's get the first 150 nouns:</h2>"
   ]
  },
  {
   "cell_type": "code",
   "execution_count": 115,
   "metadata": {
    "slideshow": {
     "slide_type": "fragment"
    }
   },
   "outputs": [
    {
     "data": {
      "text/plain": [
       "[truth,\n",
       " man,\n",
       " possession,\n",
       " fortune,\n",
       " want,\n",
       " wife,\n",
       " feelings,\n",
       " views,\n",
       " man,\n",
       " neighbourhood,\n",
       " truth,\n",
       " minds,\n",
       " families,\n",
       " property,\n",
       " one,\n",
       " daughters,\n",
       " lady,\n",
       " one,\n",
       " day,\n",
       " answer,\n",
       " who,\n",
       " wife,\n",
       " objection,\n",
       " invitation,\n",
       " dear,\n",
       " man,\n",
       " fortune,\n",
       " north,\n",
       " chaise,\n",
       " four,\n",
       " place,\n",
       " possession,\n",
       " servants,\n",
       " house,\n",
       " end,\n",
       " week,\n",
       " What,\n",
       " name,\n",
       " dear,\n",
       " man,\n",
       " fortune,\n",
       " four,\n",
       " five,\n",
       " thousand,\n",
       " year,\n",
       " What,\n",
       " thing,\n",
       " girls,\n",
       " wife,\n",
       " one,\n",
       " design,\n",
       " Nonsense,\n",
       " love,\n",
       " one,\n",
       " occasion,\n",
       " girls,\n",
       " party,\n",
       " dear,\n",
       " _,\n",
       " share,\n",
       " beauty,\n",
       " anything,\n",
       " woman,\n",
       " five,\n",
       " daughters,\n",
       " thinking,\n",
       " beauty,\n",
       " cases,\n",
       " woman,\n",
       " beauty,\n",
       " dear,\n",
       " neighbourhood,\n",
       " daughters,\n",
       " what,\n",
       " establishment,\n",
       " one,\n",
       " account,\n",
       " newcomers,\n",
       " lines,\n",
       " consent,\n",
       " whichever,\n",
       " girls,\n",
       " word,\n",
       " thing,\n",
       " bit,\n",
       " others,\n",
       " half,\n",
       " preference,\n",
       " none,\n",
       " girls,\n",
       " something,\n",
       " quickness,\n",
       " sisters,\n",
       " children,\n",
       " way,\n",
       " delight,\n",
       " compassion,\n",
       " nerves,\n",
       " dear,\n",
       " respect,\n",
       " nerves,\n",
       " friends,\n",
       " consideration,\n",
       " twenty,\n",
       " years,\n",
       " what,\n",
       " men,\n",
       " four,\n",
       " thousand,\n",
       " year,\n",
       " neighbourhood,\n",
       " use,\n",
       " twenty,\n",
       " dear,\n",
       " twenty,\n",
       " mixture,\n",
       " parts,\n",
       " humour,\n",
       " reserve,\n",
       " caprice,\n",
       " experience,\n",
       " three,\n",
       " twenty,\n",
       " years,\n",
       " wife,\n",
       " character,\n",
       " mind,\n",
       " woman,\n",
       " understanding,\n",
       " information,\n",
       " temper,\n",
       " business,\n",
       " life,\n",
       " daughters,\n",
       " solace,\n",
       " news,\n",
       " Chapter,\n",
       " 2,\n",
       " who,\n",
       " wife,\n",
       " evening,\n",
       " visit,\n",
       " knowledge,\n",
       " manner,\n",
       " daughter,\n",
       " hat,\n",
       " way,\n",
       " what,\n",
       " mother,\n",
       " assemblies]"
      ]
     },
     "execution_count": 115,
     "metadata": {},
     "output_type": "execute_result"
    }
   ],
   "source": [
    "prideNouns = [word for word in pride if word.pos_.startswith('N')][:150]\n",
    "prideNouns"
   ]
  },
  {
   "cell_type": "markdown",
   "metadata": {
    "slideshow": {
     "slide_type": "fragment"
    }
   },
   "source": [
    "Now let's get vectors and labels for each of them: "
   ]
  },
  {
   "cell_type": "code",
   "execution_count": 116,
   "metadata": {
    "collapsed": true,
    "slideshow": {
     "slide_type": "fragment"
    }
   },
   "outputs": [],
   "source": [
    "prideNounVecs = [word.vector for word in prideNouns]\n",
    "prideNounLabels = [word.string.strip() for word in prideNouns]"
   ]
  },
  {
   "cell_type": "code",
   "execution_count": 117,
   "metadata": {
    "slideshow": {
     "slide_type": "fragment"
    }
   },
   "outputs": [
    {
     "data": {
      "text/plain": [
       "(300,)"
      ]
     },
     "execution_count": 117,
     "metadata": {},
     "output_type": "execute_result"
    }
   ],
   "source": [
    "prideNounVecs[0].shape"
   ]
  },
  {
   "cell_type": "markdown",
   "metadata": {
    "collapsed": true,
    "slideshow": {
     "slide_type": "subslide"
    }
   },
   "source": [
    "<h3>A single vector is 300-dimensional, so in order to plot it in 2D, it might help to reduce the dimensionality to the most meaningful dimensions. We can use Scikit-Learn to perform truncated singular value decomposition for latent semantic analysis (LSA).</h3>"
   ]
  },
  {
   "cell_type": "code",
   "execution_count": 118,
   "metadata": {
    "collapsed": true,
    "slideshow": {
     "slide_type": "fragment"
    }
   },
   "outputs": [],
   "source": [
    "lsa = TruncatedSVD(n_components=2)\n",
    "lsaOut = lsa.fit_transform(prideNounVecs)"
   ]
  },
  {
   "cell_type": "code",
   "execution_count": 119,
   "metadata": {
    "slideshow": {
     "slide_type": "subslide"
    }
   },
   "outputs": [
    {
     "data": {
      "image/png": "[encoded data removed]",
      "text/plain": [
       "<matplotlib.figure.Figure at 0x1499935c0>"
      ]
     },
     "metadata": {},
     "output_type": "display_data"
    }
   ],
   "source": [
    "xs, ys = lsaOut[:,0], lsaOut[:,1]\n",
    "for i in range(len(xs)): \n",
    "    plt.scatter(xs[i], ys[i])\n",
    "    plt.annotate(prideNounLabels[i], (xs[i], ys[i]))"
   ]
  },
  {
   "cell_type": "markdown",
   "metadata": {
    "slideshow": {
     "slide_type": "slide"
    }
   },
   "source": [
    "# Document Vectorization\n",
    "\n",
    "This uses a non-semantic technique for vectorizing documents, just using bag-of-words. We won't need any of the fancy features of SpaCy for this, just scikit-learn. We'll use a subset of the Inaugural Address Corpus that contains 20th and 21st century inaugural addresses. \n",
    "\n",
    "First, we'll vectorize the corpus using scikit-learn's `TfidfVectorizer` class. This creates a matrix of word frequencies. (It doesn't actually use TF-IDF, since we're turning that off in the options below.)"
   ]
  },
  {
   "cell_type": "code",
   "execution_count": 123,
   "metadata": {
    "collapsed": true,
    "slideshow": {
     "slide_type": "fragment"
    }
   },
   "outputs": [],
   "source": [
    "tfidf = TfidfVectorizer(input='filename', decode_error='ignore', use_idf=False)"
   ]
  },
  {
   "cell_type": "code",
   "execution_count": 130,
   "metadata": {
    "collapsed": true,
    "slideshow": {
     "slide_type": "fragment"
    }
   },
   "outputs": [],
   "source": [
    "inauguralFilenames = sorted(glob('input/inaugural/*'))\n",
    "\n",
    "# Make labels by removing the directory name and .txt extension: \n",
    "labels = [filename.split('/')[1] for filename in inauguralFilenames]\n",
    "labels = [filename.split('.')[0] for filename in labels]\n",
    "\n",
    "# While we're at it, let's make a list of the lengths, so we can use them to plot dot sizes. \n",
    "lengths = [len(open(filename, errors='ignore').read())/100 for filename in inauguralFilenames]\n",
    "\n",
    "# Add a manually compiled list of presidential party affiliations, \n",
    "# So that we can use this to color our dots. \n",
    "parties = 'rrrbbrrrbbbbbrrbbrrbrrrbbrrbr'"
   ]
  },
  {
   "cell_type": "code",
   "execution_count": 131,
   "metadata": {
    "collapsed": true,
    "slideshow": {
     "slide_type": "fragment"
    }
   },
   "outputs": [],
   "source": [
    "tfidfOut = tfidf.fit_transform(inauguralFilenames)"
   ]
  },
  {
   "cell_type": "code",
   "execution_count": 132,
   "metadata": {
    "slideshow": {
     "slide_type": "fragment"
    }
   },
   "outputs": [
    {
     "data": {
      "text/plain": [
       "(29, 6177)"
      ]
     },
     "execution_count": 132,
     "metadata": {},
     "output_type": "execute_result"
    }
   ],
   "source": [
    "tfidfOut.shape"
   ]
  },
  {
   "cell_type": "code",
   "execution_count": 133,
   "metadata": {
    "collapsed": true,
    "slideshow": {
     "slide_type": "subslide"
    }
   },
   "outputs": [],
   "source": [
    "lsaOut = lsa.fit_transform(tfidfOut.todense())"
   ]
  },
  {
   "cell_type": "code",
   "execution_count": 134,
   "metadata": {
    "slideshow": {
     "slide_type": "subslide"
    }
   },
   "outputs": [
    {
     "data": {
      "image/png": "[encoded data removed]",
      "text/plain": [
       "<matplotlib.figure.Figure at 0x14a7ad438>"
      ]
     },
     "metadata": {},
     "output_type": "display_data"
    }
   ],
   "source": [
    "xs, ys = lsaOut[:,0], lsaOut[:,1]\n",
    "for i in range(len(xs)): \n",
    "    plt.scatter(xs[i], ys[i], c=parties[i], s=lengths[i], alpha=0.5)\n",
    "    plt.annotate(labels[i], (xs[i], ys[i]))"
   ]
  },
  {
   "cell_type": "markdown",
   "metadata": {
    "slideshow": {
     "slide_type": "slide"
    }
   },
   "source": [
    "# Average Sentence Lengths\n",
    "\n",
    "Let's load the Inaugural Address documents into SpaCy to analyze things like average sentence length. SpaCy makes this really easy. "
   ]
  },
  {
   "cell_type": "code",
   "execution_count": 144,
   "metadata": {
    "collapsed": true,
    "slideshow": {
     "slide_type": "fragment"
    }
   },
   "outputs": [],
   "source": [
    "inaugural = [nlp(open(doc, errors='ignore').read()) for doc in inauguralFilenames]"
   ]
  },
  {
   "cell_type": "code",
   "execution_count": 145,
   "metadata": {
    "collapsed": true,
    "slideshow": {
     "slide_type": "fragment"
    }
   },
   "outputs": [],
   "source": [
    "sentLengths = [ np.mean([len(sent) for sent in doc.sents]) for doc in inaugural ]"
   ]
  },
  {
   "cell_type": "code",
   "execution_count": 146,
   "metadata": {
    "slideshow": {
     "slide_type": "subslide"
    }
   },
   "outputs": [
    {
     "data": {
      "text/plain": [
       "<matplotlib.axes._subplots.AxesSubplot at 0x14d3e1c88>"
      ]
     },
     "execution_count": 146,
     "metadata": {},
     "output_type": "execute_result"
    },
    {
     "data": {
      "image/png": "[encoded data removed]",
      "text/plain": [
       "<matplotlib.figure.Figure at 0x14d3edbe0>"
      ]
     },
     "metadata": {},
     "output_type": "display_data"
    }
   ],
   "source": [
    "pd.Series(sentLengths, index=labels).plot(kind='bar')"
   ]
  },
  {
   "cell_type": "markdown",
   "metadata": {
    "slideshow": {
     "slide_type": "slide"
    }
   },
   "source": [
    "# Term Frequency Distributions\n",
    "\n",
    "This sort of thing you've probably already seen in the NLTK book, but it's made even easier in SpaCy. We're simply going to count the occurrences of words and divide by the total number of words in the document. "
   ]
  },
  {
   "cell_type": "code",
   "execution_count": 147,
   "metadata": {
    "collapsed": true,
    "slideshow": {
     "slide_type": "subslide"
    }
   },
   "outputs": [],
   "source": [
    "# Create a Pandas Data Frame with each word counted in each document, \n",
    "# divided by the length of the document. \n",
    "inauguralSeries = [pd.Series(Counter(   \n",
    "                    [word.string.strip().lower() \n",
    "                     for word in doc]))/len(doc) \n",
    "                     for doc in inaugural]\n",
    "seriesDict = {label: series for label, series in zip(labels, inauguralSeries)}\n",
    "inauguralDf = pd.DataFrame(seriesDict).T.fillna(0)"
   ]
  },
  {
   "cell_type": "code",
   "execution_count": 148,
   "metadata": {
    "slideshow": {
     "slide_type": "subslide"
    }
   },
   "outputs": [
    {
     "data": {
      "text/html": [
       "<div>\n",
       "<style>\n",
       "    .dataframe thead tr:only-child th {\n",
       "        text-align: right;\n",
       "    }\n",
       "\n",
       "    .dataframe thead th {\n",
       "        text-align: left;\n",
       "    }\n",
       "\n",
       "    .dataframe tbody tr th {\n",
       "        vertical-align: top;\n",
       "    }\n",
       "</style>\n",
       "<table border=\"1\" class=\"dataframe\">\n",
       "  <thead>\n",
       "    <tr style=\"text-align: right;\">\n",
       "      <th></th>\n",
       "      <th></th>\n",
       "      <th>\"</th>\n",
       "      <th>'s</th>\n",
       "      <th>'ve</th>\n",
       "      <th>,</th>\n",
       "      <th>-</th>\n",
       "      <th>--</th>\n",
       "      <th>.</th>\n",
       "      <th>2017</th>\n",
       "      <th>20th</th>\n",
       "      <th>...</th>\n",
       "      <th>wonderful</th>\n",
       "      <th>words</th>\n",
       "      <th>work</th>\n",
       "      <th>workers</th>\n",
       "      <th>world</th>\n",
       "      <th>years</th>\n",
       "      <th>yes</th>\n",
       "      <th>you</th>\n",
       "      <th>young</th>\n",
       "      <th>your</th>\n",
       "    </tr>\n",
       "  </thead>\n",
       "  <tbody>\n",
       "    <tr>\n",
       "      <th>inaugural</th>\n",
       "      <td>0.034863</td>\n",
       "      <td>0.001162</td>\n",
       "      <td>0.004067</td>\n",
       "      <td>0.001743</td>\n",
       "      <td>0.052295</td>\n",
       "      <td>0.000581</td>\n",
       "      <td>0.006392</td>\n",
       "      <td>0.051714</td>\n",
       "      <td>0.000581</td>\n",
       "      <td>0.000581</td>\n",
       "      <td>...</td>\n",
       "      <td>0.000581</td>\n",
       "      <td>0.001162</td>\n",
       "      <td>0.000581</td>\n",
       "      <td>0.001162</td>\n",
       "      <td>0.003486</td>\n",
       "      <td>0.001162</td>\n",
       "      <td>0.000581</td>\n",
       "      <td>0.006973</td>\n",
       "      <td>0.000581</td>\n",
       "      <td>0.006392</td>\n",
       "    </tr>\n",
       "  </tbody>\n",
       "</table>\n",
       "<p>1 rows × 548 columns</p>\n",
       "</div>"
      ],
      "text/plain": [
       "                            \"        's       've         ,         -  \\\n",
       "inaugural  0.034863  0.001162  0.004067  0.001743  0.052295  0.000581   \n",
       "\n",
       "                 --         .      2017      20th    ...     wonderful  \\\n",
       "inaugural  0.006392  0.051714  0.000581  0.000581    ...      0.000581   \n",
       "\n",
       "              words      work   workers     world     years       yes  \\\n",
       "inaugural  0.001162  0.000581  0.001162  0.003486  0.001162  0.000581   \n",
       "\n",
       "                you     young      your  \n",
       "inaugural  0.006973  0.000581  0.006392  \n",
       "\n",
       "[1 rows x 548 columns]"
      ]
     },
     "execution_count": 148,
     "metadata": {},
     "output_type": "execute_result"
    }
   ],
   "source": [
    "inauguralDf.head()"
   ]
  },
  {
   "cell_type": "markdown",
   "metadata": {
    "slideshow": {
     "slide_type": "slide"
    }
   },
   "source": [
    "<h3>We can easily slice this data frame with words we're interested in, and plot those words across the corpus. For example, let's look at the proportions of the words \"America\" and \"world\":</h3>"
   ]
  },
  {
   "cell_type": "code",
   "execution_count": 149,
   "metadata": {
    "slideshow": {
     "slide_type": "subslide"
    }
   },
   "outputs": [
    {
     "data": {
      "text/plain": [
       "<matplotlib.axes._subplots.AxesSubplot at 0x149984400>"
      ]
     },
     "execution_count": 149,
     "metadata": {},
     "output_type": "execute_result"
    },
    {
     "data": {
      "image/png": "[encoded data removed]",
      "text/plain": [
       "<matplotlib.figure.Figure at 0x149ba7518>"
      ]
     },
     "metadata": {},
     "output_type": "display_data"
    }
   ],
   "source": [
    "inauguralDf[['world', 'america']].plot(kind='bar')"
   ]
  },
  {
   "cell_type": "markdown",
   "metadata": {
    "slideshow": {
     "slide_type": "subslide"
    }
   },
   "source": [
    "<h3>We can even compute, the ratio of uses of the word \"America\" to uses of the word \"world.\"</h3>"
   ]
  },
  {
   "cell_type": "code",
   "execution_count": 150,
   "metadata": {
    "slideshow": {
     "slide_type": "subslide"
    }
   },
   "outputs": [
    {
     "data": {
      "text/plain": [
       "<matplotlib.axes._subplots.AxesSubplot at 0x14a780320>"
      ]
     },
     "execution_count": 150,
     "metadata": {},
     "output_type": "execute_result"
    },
    {
     "data": {
      "image/png": "[encoded data removed]",
      "text/plain": [
       "<matplotlib.figure.Figure at 0x14b21d390>"
      ]
     },
     "metadata": {},
     "output_type": "display_data"
    }
   ],
   "source": [
    "americaWorldRatio = inauguralDf['america']/inauguralDf['world']\n",
    "americaWorldRatio.plot(kind='bar')"
   ]
  },
  {
   "cell_type": "markdown",
   "metadata": {
    "slideshow": {
     "slide_type": "slide"
    }
   },
   "source": [
    "# Document Similarity Matrix\n",
    "\n",
    "Using the `.similarity()` method from earlier that uses word vectors, we can very easily compute the document similarity between all the documents in our corpus. "
   ]
  },
  {
   "cell_type": "code",
   "execution_count": 151,
   "metadata": {
    "collapsed": true,
    "slideshow": {
     "slide_type": "fragment"
    }
   },
   "outputs": [],
   "source": [
    "similarities = [ [doc.similarity(other) for other in inaugural] for doc in inaugural ]\n",
    "similaritiesDf = pd.DataFrame(similarities, columns=labels, index=labels)"
   ]
  },
  {
   "cell_type": "code",
   "execution_count": 156,
   "metadata": {
    "slideshow": {
     "slide_type": "subslide"
    }
   },
   "outputs": [
    {
     "data": {
      "text/plain": [
       "<matplotlib.axes._subplots.AxesSubplot at 0x15bff44a8>"
      ]
     },
     "execution_count": 156,
     "metadata": {},
     "output_type": "execute_result"
    },
    {
     "data": {
      "image/png": "[encoded data removed]",
      "text/plain": [
       "<matplotlib.figure.Figure at 0x15b6bd4a8>"
      ]
     },
     "metadata": {},
     "output_type": "display_data"
    }
   ],
   "source": [
    "# Requires the Seaborn library. \n",
    "rcParams['figure.figsize'] = 16, 8\n",
    "seaborn.heatmap(similaritiesDf)"
   ]
  },
  {
   "cell_type": "code",
   "execution_count": null,
   "metadata": {
    "collapsed": true
   },
   "outputs": [],
   "source": []
  }
 ],
 "metadata": {
  "celltoolbar": "Slideshow",
  "kernelspec": {
   "display_name": "Python 3",
   "language": "python",
   "name": "python3"
  },
  "language_info": {
   "codemirror_mode": {
    "name": "ipython",
    "version": 3
   },
   "file_extension": ".py",
   "mimetype": "text/x-python",
   "name": "python",
   "nbconvert_exporter": "python",
   "pygments_lexer": "ipython3",
   "version": "3.6.1"
  }
 },
 "nbformat": 4,
 "nbformat_minor": 2
}
